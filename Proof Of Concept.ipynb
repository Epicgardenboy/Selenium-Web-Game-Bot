{
 "cells": [
  {
   "cell_type": "code",
   "execution_count": 22,
   "metadata": {},
   "outputs": [],
   "source": [
    "from selenium import webdriver\n",
    "from selenium.webdriver.common.by import By\n",
    "from selenium.webdriver.support.wait import WebDriverWait\n",
    "from selenium import webdriver\n",
    "from selenium.webdriver.common.by import By\n",
    "from selenium.webdriver.support.ui import WebDriverWait\n",
    "from selenium.webdriver.support import expected_conditions as EC\n",
    "from selenium.common.exceptions import NoSuchElementException\n",
    "import loginInfo\n",
    "from selenium.common.exceptions import TimeoutException, StaleElementReferenceException\n",
    "import time\n",
    "from find_inventory_element_and_click import find_inventory_element_and_click\n",
    "from find_inventory_elements import find_inventory_elements\n",
    "from wait_and_type_element import wait_and_type_element\n",
    "from wait_and_click_element import wait_and_click_element\n",
    "from click_menu_item import click_menu_item\n",
    "from wait_for_element_by_text import wait_for_element_by_text\n",
    "from get_integer_from_xpath import get_integer_from_xpath"
   ]
  },
  {
   "cell_type": "code",
   "execution_count": 16,
   "metadata": {},
   "outputs": [],
   "source": [
    "driver = webdriver.Chrome()\n",
    "driver.get(\"https://ironwoodrpg.com\")\n",
    "\n",
    "# Sign into the website and go to the main page\n",
    "wait_and_click_element(driver, '/html/body/app-component/div/div/div/auth-page/div[4]/button[2]' , timeout=100)\n",
    "wait_and_click_element(driver, '/html/body/app-component/div/div/div/auth-page/modal-component/div/div[2]/div/div/form/div[4]/button' , timeout=100)\n",
    "wait_and_type_element(driver, '/html/body/app-component/div/div/div/auth-page/modal-component/div/div[2]/div/div/form/div[1]/input', loginInfo.usernamelist[0], timeout=100)\n",
    "wait_and_type_element(driver, '/html/body/app-component/div/div/div/auth-page/modal-component/div/div[2]/div/div/form/div[3]/input', loginInfo.passwordlist[0], timeout=100)\n",
    "wait_and_click_element(driver, '/html/body/app-component/div/div/div/auth-page/modal-component/div/div[2]/div/div/form/button' , timeout=100)\n"
   ]
  },
  {
   "cell_type": "code",
   "execution_count": 5,
   "metadata": {},
   "outputs": [
    {
     "name": "stdout",
     "output_type": "stream",
     "text": [
      "Attempt 1 of 3 to click 'Tutorial'\n",
      "Successfully clicked on 'Tutorial'\n",
      "Attempt 1 of 3 to click 'Gather a Pine Log from Woodcutting'\n",
      "Successfully clicked on 'Gather a Pine Log from Woodcutting'\n",
      "Attempt 1 of 3 to click 'Pine Log'\n",
      "Could not find clickable button with text 'Pine Log' on attempt 1\n",
      "Attempt 2 of 3 to click 'Pine Log'\n",
      "Could not find clickable button with text 'Pine Log' on attempt 2\n",
      "Attempt 3 of 3 to click 'Pine Log'\n",
      "Could not find clickable button with text 'Pine Log' on attempt 3\n",
      "Failed to click on 'Pine Log' after 3 attempts\n",
      "Attempt 1 of 3 to click 'Stop & Loot'\n",
      "Successfully clicked on 'Stop & Loot'\n",
      "Attempt 1 of 3 to click 'Tutorial'\n",
      "Successfully clicked on 'Tutorial'\n",
      "Attempt 1 of 3 to click 'Gather a Copper Ore from Mining'\n",
      "Successfully clicked on 'Gather a Copper Ore from Mining'\n",
      "Attempt 1 of 3 to click 'Copper Rock'\n",
      "Successfully clicked on 'Copper Rock'\n",
      "Attempt 1 of 3 to click 'Stop & Loot'\n",
      "Successfully clicked on 'Stop & Loot'\n",
      "Attempt 1 of 3 to click 'Tutorial'\n",
      "Successfully clicked on 'Tutorial'\n",
      "Attempt 1 of 3 to click 'Create Charcoal from Smelting by using the'\n",
      "Successfully clicked on 'Create Charcoal from Smelting by using the'\n",
      "Attempt 1 of 3 to click 'Charcoal'\n",
      "Successfully clicked on 'Charcoal'\n",
      "Attempt 1 of 3 to click 'Pine Log'\n",
      "Successfully clicked on 'Pine Log'\n",
      "Attempt 1 of 3 to click 'Max'\n",
      "Successfully clicked on 'Max'\n",
      "Attempt 1 of 3 to click 'Create'\n",
      "Successfully clicked on 'Create'\n",
      "Attempt 1 of 3 to click 'Tutorial'\n",
      "Successfully clicked on 'Tutorial'\n",
      "Attempt 1 of 3 to click 'Craft a Copper Bar from Smelting'\n",
      "Successfully clicked on 'Craft a Copper Bar from Smelting'\n",
      "Attempt 1 of 3 to click 'Tutorial'\n",
      "Successfully clicked on 'Tutorial'\n",
      "Attempt 1 of 3 to click 'Claim'\n",
      "Successfully clicked on 'Claim'\n"
     ]
    },
    {
     "data": {
      "text/plain": [
       "True"
      ]
     },
     "execution_count": 5,
     "metadata": {},
     "output_type": "execute_result"
    }
   ],
   "source": [
    "# Tutorial Page One\n",
    "click_menu_item(driver, \"Tutorial\")\n",
    "click_menu_item(driver, \"Gather a Pine Log from Woodcutting\")\n",
    "click_menu_item(driver, \"Pine Log\") # Fails a lot of the time but needed incase Pine Log is not selected already\n",
    "wait_and_click_element(driver, \"/html/body/app-component/div/div/div/skill-page/div/div[1]/button\") # \"Gather\" defaults to gather potion so XPath to gather must be used\n",
    "time.sleep(10) # Action only takes 4.1 but accounting for bad connection\n",
    "click_menu_item(driver, \"Stop & Loot\")\n",
    "\n",
    "\n",
    "click_menu_item(driver, \"Tutorial\")\n",
    "click_menu_item(driver, \"Gather a Copper Ore from Mining\")\n",
    "click_menu_item(driver, \"Copper Rock\")\n",
    "wait_and_click_element(driver, \"/html/body/app-component/div/div/div/skill-page/div/div[1]/button\") # \"Gather\" defaults to gather potion so XPath to gather must be used\n",
    "time.sleep(10) # Action only takes 4.1 but accounting for bad connection\n",
    "click_menu_item(driver, \"Stop & Loot\")\n",
    "\n",
    "\n",
    "click_menu_item(driver, \"Tutorial\")\n",
    "click_menu_item(driver, \"Create Charcoal from Smelting by using the\")\n",
    "click_menu_item(driver, \"Charcoal\")\n",
    "click_menu_item(driver, \"Pine Log\")\n",
    "click_menu_item(driver, \"Max\")\n",
    "click_menu_item(driver, \"Create\")\n",
    "\n",
    "\n",
    "click_menu_item(driver, \"Tutorial\")\n",
    "click_menu_item(driver, \"Craft a Copper Bar from Smelting\")\n",
    "wait_and_click_element(driver, \"/html/body/app-component/div/div/div/skill-page/div/div[1]/div[3]/button[2]\") # \"Craft\" defaults to craft potion so XPath to Craft mut be used\n",
    "time.sleep(10) # Action only takes 4.1 but accounting for bad connection\n",
    "\n",
    "click_menu_item(driver, \"Tutorial\")\n",
    "click_menu_item(driver, \"Claim\")"
   ]
  },
  {
   "cell_type": "code",
   "execution_count": 20,
   "metadata": {},
   "outputs": [
    {
     "name": "stdout",
     "output_type": "stream",
     "text": [
      "Attempt 1 of 3 to click 'Tutorial'\n",
      "Successfully clicked on 'Tutorial'\n",
      "Attempt 1 of 3 to click 'Craft a Copper Sword from Forging'\n",
      "Successfully clicked on 'Craft a Copper Sword from Forging'\n",
      "Attempt 1 of 3 to click 'Copper'\n",
      "Successfully clicked on 'Copper'\n",
      "Attempt 1 of 3 to click 'Copper Sword'\n",
      "Successfully clicked on 'Copper Sword'\n",
      "Attempt 1 of 3 to click 'Tutorial'\n",
      "Successfully clicked on 'Tutorial'\n",
      "Attempt 1 of 3 to click 'Craft a Copper Shield from Smithing'\n",
      "Successfully clicked on 'Craft a Copper Shield from Smithing'\n",
      "Attempt 1 of 3 to click 'Copper'\n",
      "Successfully clicked on 'Copper'\n",
      "Attempt 1 of 3 to click 'Copper Shield'\n",
      "Successfully clicked on 'Copper Shield'\n",
      "Attempt 1 of 3 to click 'Stop & Loot'\n",
      "Successfully clicked on 'Stop & Loot'\n",
      "Attempt 1 of 3 to click 'Tutorial'\n",
      "Successfully clicked on 'Tutorial'\n",
      "Attempt 1 of 3 to click 'Go to the Equipment page'\n",
      "Successfully clicked on 'Go to the Equipment page'\n",
      "Attempt 1 of 3 to click 'Main Hand'\n",
      "Successfully clicked on 'Main Hand'\n",
      "Attempt 1 of 3 to click 'Copper Sword'\n",
      "Successfully clicked on 'Copper Sword'\n",
      "Attempt 1 of 3 to click 'Off Hand'\n",
      "Successfully clicked on 'Off Hand'\n",
      "Attempt 1 of 3 to click 'Copper Shield'\n",
      "Successfully clicked on 'Copper Shield'\n",
      "Attempt 1 of 3 to click 'Tutorial'\n",
      "Successfully clicked on 'Tutorial'\n",
      "Attempt 1 of 3 to click 'Claim'\n",
      "Successfully clicked on 'Claim'\n"
     ]
    },
    {
     "data": {
      "text/plain": [
       "True"
      ]
     },
     "execution_count": 20,
     "metadata": {},
     "output_type": "execute_result"
    }
   ],
   "source": [
    "# Tutorial Page Two\n",
    "click_menu_item(driver, \"Tutorial\")\n",
    "click_menu_item(driver, \"Craft a Copper Sword from Forging\")\n",
    "click_menu_item(driver, \"Copper\")\n",
    "click_menu_item(driver, \"Copper Sword\")\n",
    "wait_and_click_element(driver, \"/html/body/app-component/div/div/div/skill-page/div/div[1]/div[3]/button[2]\") # \"Craft\" defaults to craft potion so XPath to Craft mut be used\n",
    "time.sleep(10) # Action only takes 4.1 but accounting for bad connection\n",
    "\n",
    "click_menu_item(driver, \"Tutorial\")\n",
    "click_menu_item(driver, \"Craft a Copper Shield from Smithing\")\n",
    "click_menu_item(driver, \"Copper\")\n",
    "click_menu_item(driver, \"Copper Shield\")\n",
    "wait_and_click_element(driver, \"/html/body/app-component/div/div/div/skill-page/div/div[1]/div[3]/button[2]\") # \"Craft\" defaults to craft potion so XPath to Craft mut be used\n",
    "time.sleep(10) # Action only takes 4.1 but accounting for bad connection\n",
    "click_menu_item(driver, \"Stop & Loot\") # Need to stop and loot this time so shield is available to equip\n",
    "\n",
    "click_menu_item(driver, \"Tutorial\")\n",
    "click_menu_item(driver, \"Go to the Equipment page\")\n",
    "click_menu_item(driver, \"Main Hand\")\n",
    "click_menu_item(driver, \"Copper Sword\")\n",
    "click_menu_item(driver, \"Off Hand\")\n",
    "click_menu_item(driver, \"Copper Shield\")\n",
    "\n",
    "click_menu_item(driver, \"Tutorial\")\n",
    "click_menu_item(driver, \"Claim\")\n"
   ]
  },
  {
   "cell_type": "code",
   "execution_count": 9,
   "metadata": {},
   "outputs": [
    {
     "name": "stdout",
     "output_type": "stream",
     "text": [
      "Attempt 1 of 3 to click 'Tutorial'\n",
      "Successfully clicked on 'Tutorial'\n",
      "Attempt 1 of 3 to click 'Craft 150 Copper Helmets from Smithing'\n",
      "Successfully clicked on 'Craft 150 Copper Helmets from Smithing'\n",
      "Successfully extracted integer value: 1\n",
      "Successfully extracted integer value: 1\n",
      "Successfully extracted integer value: 1\n",
      "Successfully extracted integer value: 1\n",
      "Successfully extracted integer value: 2\n",
      "Successfully extracted integer value: 2\n",
      "Successfully extracted integer value: 2\n",
      "Successfully extracted integer value: 2\n",
      "Successfully extracted integer value: 3\n",
      "Successfully extracted integer value: 3\n",
      "Successfully extracted integer value: 3\n",
      "Successfully extracted integer value: 3\n",
      "Successfully extracted integer value: 4\n",
      "Successfully extracted integer value: 4\n",
      "Successfully extracted integer value: 4\n",
      "Successfully extracted integer value: 4\n",
      "Successfully extracted integer value: 5\n"
     ]
    }
   ],
   "source": [
    "# Tutorial Page Three\n",
    "# click_menu_item(driver, \"\")\n",
    "click_menu_item(driver, \"Tutorial\")\n",
    "click_menu_item(driver, \"Craft 150 Copper Helmets from Smithing\")\n",
    "wait_and_click_element(driver, \"/html/body/app-component/div/div/div/skill-page/div/div[1]/div[3]/button[2]\") # \"Craft\" defaults to craft potion so XPath to Craft mut be used\n",
    "numHelmet = 0\n",
    "while numHelmet < 151:\n",
    "    numHelmet = get_integer_from_xpath(driver, \"/html/body/app-component/div/div/div/skill-page/div/div[1]/div[3]/div[2]/div[3]\")\n",
    "    time.sleep(1)\n",
    "click_menu_item(driver, \"Stop & Loot\") # Need to stop and loot this time so bars are not wasted\n",
    "\n",
    "click_menu_item(driver, \"Tutorial\")\n",
    "click_menu_item(driver, \"Go to the Inventory page\")\n",
    "click_menu_item(driver, \"Upgrade\")\n",
    "\n",
    "click_menu_item(driver, \"Upgrade\")\n"
   ]
  },
  {
   "cell_type": "code",
   "execution_count": 21,
   "metadata": {},
   "outputs": [
    {
     "data": {
      "text/plain": [
       "[{'name': 'wood-spruce',\n",
       "  'xpath': \"(//button[contains(@class, 'item')])[1]\",\n",
       "  'quantity': '44.6K'},\n",
       " {'name': 'wood-pine',\n",
       "  'xpath': \"(//button[contains(@class, 'item')])[2]\",\n",
       "  'quantity': '137'},\n",
       " {'name': 'rock-copper',\n",
       "  'xpath': \"(//button[contains(@class, 'item')])[3]\",\n",
       "  'quantity': '9.8K'},\n",
       " {'name': 'gem-ruby',\n",
       "  'xpath': \"(//button[contains(@class, 'item')])[4]\",\n",
       "  'quantity': '105'},\n",
       " {'name': 'bar-copper',\n",
       "  'xpath': \"(//button[contains(@class, 'item')])[5]\",\n",
       "  'quantity': '231'},\n",
       " {'name': 'food-grapes',\n",
       "  'xpath': \"(//button[contains(@class, 'item')])[6]\",\n",
       "  'quantity': '2.4K'},\n",
       " {'name': 'food-apple',\n",
       "  'xpath': \"(//button[contains(@class, 'item')])[7]\",\n",
       "  'quantity': '4.8K'},\n",
       " {'name': 'armor-copper-helmet',\n",
       "  'xpath': \"(//button[contains(@class, 'item')])[8]\",\n",
       "  'quantity': '5'},\n",
       " {'name': 'armor-copper-shield',\n",
       "  'xpath': \"(//button[contains(@class, 'item')])[9]\",\n",
       "  'quantity': '60'},\n",
       " {'name': 'armor-copper-boots',\n",
       "  'xpath': \"(//button[contains(@class, 'item')])[10]\",\n",
       "  'quantity': '8'},\n",
       " {'name': 'sword-copper',\n",
       "  'xpath': \"(//button[contains(@class, 'item')])[11]\",\n",
       "  'quantity': '37'},\n",
       " {'name': 'challenge-scroll',\n",
       "  'xpath': \"(//button[contains(@class, 'item')])[12]\",\n",
       "  'quantity': '22'}]"
      ]
     },
     "execution_count": 21,
     "metadata": {},
     "output_type": "execute_result"
    }
   ],
   "source": [
    "find_inventory_elements(driver)"
   ]
  },
  {
   "cell_type": "code",
   "execution_count": 24,
   "metadata": {},
   "outputs": [
    {
     "name": "stdout",
     "output_type": "stream",
     "text": [
      "None\n"
     ]
    }
   ],
   "source": [
    "print(find_inventory_element_and_click(driver, \"helmet\"))"
   ]
  },
  {
   "cell_type": "code",
   "execution_count": 36,
   "metadata": {},
   "outputs": [],
   "source": [
    "import subprocess\n",
    "\n",
    "def kill_chrome():\n",
    "    # run the 'pkill' command to kill all 'chrome' processes\n",
    "    subprocess.run(['pkill', 'Google Chrome'])\n",
    "\n",
    "kill_chrome()"
   ]
  }
 ],
 "metadata": {
  "kernelspec": {
   "display_name": ".venv",
   "language": "python",
   "name": "python3"
  },
  "language_info": {
   "codemirror_mode": {
    "name": "ipython",
    "version": 3
   },
   "file_extension": ".py",
   "mimetype": "text/x-python",
   "name": "python",
   "nbconvert_exporter": "python",
   "pygments_lexer": "ipython3",
   "version": "3.12.1"
  }
 },
 "nbformat": 4,
 "nbformat_minor": 2
}
