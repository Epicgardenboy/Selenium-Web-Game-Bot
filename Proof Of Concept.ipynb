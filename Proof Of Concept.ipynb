{
 "cells": [
  {
   "cell_type": "code",
   "execution_count": 4,
   "metadata": {},
   "outputs": [],
   "source": [
    "# Imports\n",
    "from selenium import webdriver\n",
    "from selenium.webdriver.common.by import By\n",
    "from selenium.webdriver.support.wait import WebDriverWait\n",
    "from selenium import webdriver\n",
    "from selenium.webdriver.common.by import By\n",
    "from selenium.webdriver.support.ui import WebDriverWait\n",
    "from selenium.webdriver.support import expected_conditions as EC\n",
    "from selenium.common.exceptions import NoSuchElementException\n",
    "import loginInfo\n",
    "from selenium.common.exceptions import TimeoutException, StaleElementReferenceException\n",
    "import time\n",
    "from Functions.find_inventory_element_and_click import find_inventory_element_and_click\n",
    "from Functions.find_inventory_elements import find_inventory_elements\n",
    "from Functions.wait_and_type_element import wait_and_type_element\n",
    "from Functions.wait_and_click_element import wait_and_click_element\n",
    "from Functions.click_menu_item import click_menu_item\n",
    "from Functions.wait_for_element_by_text import wait_for_element_by_text\n",
    "from Functions.get_integer_from_xpath import get_integer_from_xpath"
   ]
  },
  {
   "cell_type": "code",
   "execution_count": 9,
   "metadata": {},
   "outputs": [],
   "source": [
    "# Open instance \n",
    "driver = webdriver.Chrome()\n",
    "driver.get(\"https://ironwoodrpg.com\")\n",
    "\n",
    "# Sign into the website and go to the main page\n",
    "wait_and_click_element(driver, '/html/body/app-component/div/div/div/auth-page/div[4]/button[2]' , timeout=100)\n",
    "wait_and_click_element(driver, '/html/body/app-component/div/div/div/auth-page/modal-component/div/div[2]/div/div/form/div[4]/button' , timeout=100)\n",
    "wait_and_type_element(driver, '/html/body/app-component/div/div/div/auth-page/modal-component/div/div[2]/div/div/form/div[1]/input', loginInfo.usernamelist[0], timeout=100)\n",
    "wait_and_type_element(driver, '/html/body/app-component/div/div/div/auth-page/modal-component/div/div[2]/div/div/form/div[3]/input', loginInfo.passwordlist[0], timeout=100)\n",
    "wait_and_click_element(driver, '/html/body/app-component/div/div/div/auth-page/modal-component/div/div[2]/div/div/form/button' , timeout=100)\n"
   ]
  },
  {
   "cell_type": "code",
   "execution_count": 10,
   "metadata": {},
   "outputs": [
    {
     "data": {
      "text/plain": [
       "[{'name': 'wood-spruce',\n",
       "  'xpath': \"(//button[contains(@class, 'item')])[1]\",\n",
       "  'quantity': '44.6K'},\n",
       " {'name': 'wood-pine',\n",
       "  'xpath': \"(//button[contains(@class, 'item')])[2]\",\n",
       "  'quantity': '261'},\n",
       " {'name': 'rock-copper',\n",
       "  'xpath': \"(//button[contains(@class, 'item')])[3]\",\n",
       "  'quantity': '9.8K'},\n",
       " {'name': 'gem-ruby',\n",
       "  'xpath': \"(//button[contains(@class, 'item')])[4]\",\n",
       "  'quantity': '105'},\n",
       " {'name': 'bar-copper',\n",
       "  'xpath': \"(//button[contains(@class, 'item')])[5]\",\n",
       "  'quantity': '127'},\n",
       " {'name': 'potion-gather-efficiency',\n",
       "  'xpath': \"(//button[contains(@class, 'item')])[6]\",\n",
       "  'quantity': '50'},\n",
       " {'name': 'potion-craft-efficiency',\n",
       "  'xpath': \"(//button[contains(@class, 'item')])[7]\",\n",
       "  'quantity': '50'},\n",
       " {'name': 'potion-combat-efficiency',\n",
       "  'xpath': \"(//button[contains(@class, 'item')])[8]\",\n",
       "  'quantity': '50'},\n",
       " {'name': 'pie-shrimp',\n",
       "  'xpath': \"(//button[contains(@class, 'item')])[9]\",\n",
       "  'quantity': '100'},\n",
       " {'name': 'food-grapes',\n",
       "  'xpath': \"(//button[contains(@class, 'item')])[10]\",\n",
       "  'quantity': '2.4K'},\n",
       " {'name': 'food-apple',\n",
       "  'xpath': \"(//button[contains(@class, 'item')])[11]\",\n",
       "  'quantity': '4.8K'},\n",
       " {'name': 'food-potato',\n",
       "  'xpath': \"(//button[contains(@class, 'item')])[12]\",\n",
       "  'quantity': '1'},\n",
       " {'name': 'armor-copper-helmet',\n",
       "  'xpath': \"(//button[contains(@class, 'item')])[13]\",\n",
       "  'quantity': '9'},\n",
       " {'name': 'armor-copper-shield',\n",
       "  'xpath': \"(//button[contains(@class, 'item')])[14]\",\n",
       "  'quantity': '60'},\n",
       " {'name': 'armor-copper-boots',\n",
       "  'xpath': \"(//button[contains(@class, 'item')])[15]\",\n",
       "  'quantity': '8'},\n",
       " {'name': 'sword-copper',\n",
       "  'xpath': \"(//button[contains(@class, 'item')])[16]\",\n",
       "  'quantity': '37'},\n",
       " {'name': 'bone',\n",
       "  'xpath': \"(//button[contains(@class, 'item')])[17]\",\n",
       "  'quantity': '15'},\n",
       " {'name': 'challenge-scroll',\n",
       "  'xpath': \"(//button[contains(@class, 'item')])[18]\",\n",
       "  'quantity': '22'}]"
      ]
     },
     "execution_count": 10,
     "metadata": {},
     "output_type": "execute_result"
    }
   ],
   "source": [
    "find_inventory_elements(driver)"
   ]
  },
  {
   "cell_type": "code",
   "execution_count": 40,
   "metadata": {},
   "outputs": [
    {
     "name": "stdout",
     "output_type": "stream",
     "text": [
      "Attempt 1 of 3 to click 'Tutorial'\n",
      "Successfully clicked on 'Tutorial'\n",
      "Attempt 1 of 3 to click 'Go to the Equipment page'\n",
      "Successfully clicked on 'Go to the Equipment page'\n",
      "Attempt 1 of 3 to click 'Food'\n",
      "Could not find clickable button with text 'Food' on attempt 1\n",
      "Attempt 2 of 3 to click 'Food'\n",
      "Could not find clickable button with text 'Food' on attempt 2\n",
      "Attempt 3 of 3 to click 'Food'\n",
      "Could not find clickable button with text 'Food' on attempt 3\n",
      "Failed to click on 'Food' after 3 attempts\n",
      "Attempt 1 of 3 to click 'Shrimp Pie'\n",
      "Successfully clicked on 'Shrimp Pie'\n",
      "Attempt 1 of 3 to click 'All'\n",
      "Successfully clicked on 'All'\n",
      "Attempt 1 of 3 to click 'Equip'\n",
      "Successfully clicked on 'Equip'\n",
      "Attempt 1 of 3 to click 'Helmet'\n",
      "Successfully clicked on 'Helmet'\n",
      "Attempt 1 of 3 to click 'Perfect Copper Helmet'\n",
      "Successfully clicked on 'Perfect Copper Helmet'\n",
      "Attempt 1 of 3 to click 'Tutorial'\n",
      "Successfully clicked on 'Tutorial'\n",
      "Attempt 1 of 3 to click 'Defeat a Snake'\n",
      "Successfully clicked on 'Defeat a Snake'\n",
      "Attempt 1 of 3 to click 'Fight'\n",
      "Successfully clicked on 'Fight'\n",
      "Attempt 1 of 3 to click 'Tutorial'\n",
      "Successfully clicked on 'Tutorial'\n"
     ]
    },
    {
     "data": {
      "text/plain": [
       "True"
      ]
     },
     "execution_count": 40,
     "metadata": {},
     "output_type": "execute_result"
    }
   ],
   "source": [
    "# Tutorial Page Fice and Six\n",
    "\n",
    "click_menu_item(driver, \"Tutorial\")\n",
    "click_menu_item(driver, \"Go to the Equipment page\")\n",
    "click_menu_item(driver, \"Food\")\n",
    "click_menu_item(driver, \"Shrimp Pie\")\n",
    "click_menu_item(driver, \"All\")\n",
    "click_menu_item(driver, \"Equip\")\n",
    "click_menu_item(driver, \"Helmet\")\n",
    "click_menu_item(driver, \"Perfect Copper Helmet\")\n",
    "\n",
    "click_menu_item(driver, \"Tutorial\")\n",
    "click_menu_item(driver, \"Defeat a Snake\")\n",
    "click_menu_item(driver, \"Fight\")\n",
    "time.sleep(5)\n",
    "wait_for_element_by_text(driver, \"Bone\", timeout = 1000) # Getting the number of bones gathered would not work, I do not know why\n",
    "click_menu_item(driver, \"Tutorial\")\n",
    "click_menu_item(driver, \"Claim\")\n",
    "\n",
    "# Page 6 (extra rewards)\n",
    "time.sleep(3)\n",
    "click_menu_item(driver, \"Claim\")\n"
   ]
  },
  {
   "cell_type": "code",
   "execution_count": 11,
   "metadata": {},
   "outputs": [],
   "source": [
    "import subprocess\n",
    "\n",
    "def kill_chrome():\n",
    "    # Use 'taskkill' command to kill all 'chrome' processes on Windows\n",
    "    subprocess.run(['taskkill', '/F', '/IM', 'chrome.exe'])\n",
    "\n",
    "kill_chrome()"
   ]
  }
 ],
 "metadata": {
  "kernelspec": {
   "display_name": ".venv",
   "language": "python",
   "name": "python3"
  },
  "language_info": {
   "codemirror_mode": {
    "name": "ipython",
    "version": 3
   },
   "file_extension": ".py",
   "mimetype": "text/x-python",
   "name": "python",
   "nbconvert_exporter": "python",
   "pygments_lexer": "ipython3",
   "version": "3.12.1"
  }
 },
 "nbformat": 4,
 "nbformat_minor": 2
}
