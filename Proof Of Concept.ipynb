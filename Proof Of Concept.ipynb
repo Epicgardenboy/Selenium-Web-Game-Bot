{
 "cells": [
  {
   "cell_type": "code",
   "execution_count": 2,
   "metadata": {},
   "outputs": [],
   "source": [
    "# Imports\n",
    "from selenium import webdriver\n",
    "from selenium.webdriver.common.by import By\n",
    "from selenium.webdriver.support.wait import WebDriverWait\n",
    "from selenium import webdriver\n",
    "from selenium.webdriver.common.by import By\n",
    "from selenium.webdriver.support.ui import WebDriverWait\n",
    "from selenium.webdriver.support import expected_conditions as EC\n",
    "from selenium.common.exceptions import NoSuchElementException\n",
    "import loginInfo\n",
    "from selenium.common.exceptions import TimeoutException, StaleElementReferenceException\n",
    "import time\n",
    "from find_inventory_element_and_click import find_inventory_element_and_click\n",
    "from find_inventory_elements import find_inventory_elements\n",
    "from wait_and_type_element import wait_and_type_element\n",
    "from wait_and_click_element import wait_and_click_element\n",
    "from click_menu_item import click_menu_item\n",
    "from wait_for_element_by_text import wait_for_element_by_text\n",
    "from get_integer_from_xpath import get_integer_from_xpath"
   ]
  },
  {
   "cell_type": "code",
   "execution_count": 18,
   "metadata": {},
   "outputs": [],
   "source": [
    "# Open instance \n",
    "driver = webdriver.Chrome()\n",
    "driver.get(\"https://ironwoodrpg.com\")\n",
    "\n",
    "# Sign into the website and go to the main page\n",
    "wait_and_click_element(driver, '/html/body/app-component/div/div/div/auth-page/div[4]/button[2]' , timeout=100)\n",
    "wait_and_click_element(driver, '/html/body/app-component/div/div/div/auth-page/modal-component/div/div[2]/div/div/form/div[4]/button' , timeout=100)\n",
    "wait_and_type_element(driver, '/html/body/app-component/div/div/div/auth-page/modal-component/div/div[2]/div/div/form/div[1]/input', loginInfo.usernamelist[0], timeout=100)\n",
    "wait_and_type_element(driver, '/html/body/app-component/div/div/div/auth-page/modal-component/div/div[2]/div/div/form/div[3]/input', loginInfo.passwordlist[0], timeout=100)\n",
    "wait_and_click_element(driver, '/html/body/app-component/div/div/div/auth-page/modal-component/div/div[2]/div/div/form/button' , timeout=100)\n"
   ]
  },
  {
   "cell_type": "code",
   "execution_count": 5,
   "metadata": {},
   "outputs": [
    {
     "name": "stdout",
     "output_type": "stream",
     "text": [
      "Attempt 1 of 3 to click 'Tutorial'\n",
      "Successfully clicked on 'Tutorial'\n",
      "Attempt 1 of 3 to click 'Gather a Pine Log from Woodcutting'\n",
      "Successfully clicked on 'Gather a Pine Log from Woodcutting'\n",
      "Attempt 1 of 3 to click 'Pine Log'\n",
      "Could not find clickable button with text 'Pine Log' on attempt 1\n",
      "Attempt 2 of 3 to click 'Pine Log'\n",
      "Could not find clickable button with text 'Pine Log' on attempt 2\n",
      "Attempt 3 of 3 to click 'Pine Log'\n",
      "Could not find clickable button with text 'Pine Log' on attempt 3\n",
      "Failed to click on 'Pine Log' after 3 attempts\n",
      "Attempt 1 of 3 to click 'Stop & Loot'\n",
      "Successfully clicked on 'Stop & Loot'\n",
      "Attempt 1 of 3 to click 'Tutorial'\n",
      "Successfully clicked on 'Tutorial'\n",
      "Attempt 1 of 3 to click 'Gather a Copper Ore from Mining'\n",
      "Successfully clicked on 'Gather a Copper Ore from Mining'\n",
      "Attempt 1 of 3 to click 'Copper Rock'\n",
      "Successfully clicked on 'Copper Rock'\n",
      "Attempt 1 of 3 to click 'Stop & Loot'\n",
      "Successfully clicked on 'Stop & Loot'\n",
      "Attempt 1 of 3 to click 'Tutorial'\n",
      "Successfully clicked on 'Tutorial'\n",
      "Attempt 1 of 3 to click 'Create Charcoal from Smelting by using the'\n",
      "Successfully clicked on 'Create Charcoal from Smelting by using the'\n",
      "Attempt 1 of 3 to click 'Charcoal'\n",
      "Successfully clicked on 'Charcoal'\n",
      "Attempt 1 of 3 to click 'Pine Log'\n",
      "Successfully clicked on 'Pine Log'\n",
      "Attempt 1 of 3 to click 'Max'\n",
      "Successfully clicked on 'Max'\n",
      "Attempt 1 of 3 to click 'Create'\n",
      "Successfully clicked on 'Create'\n",
      "Attempt 1 of 3 to click 'Tutorial'\n",
      "Successfully clicked on 'Tutorial'\n",
      "Attempt 1 of 3 to click 'Craft a Copper Bar from Smelting'\n",
      "Successfully clicked on 'Craft a Copper Bar from Smelting'\n",
      "Attempt 1 of 3 to click 'Tutorial'\n",
      "Successfully clicked on 'Tutorial'\n",
      "Attempt 1 of 3 to click 'Claim'\n",
      "Successfully clicked on 'Claim'\n"
     ]
    },
    {
     "data": {
      "text/plain": [
       "True"
      ]
     },
     "execution_count": 5,
     "metadata": {},
     "output_type": "execute_result"
    }
   ],
   "source": [
    "# Tutorial Page One\n",
    "click_menu_item(driver, \"Tutorial\")\n",
    "click_menu_item(driver, \"Gather a Pine Log from Woodcutting\")\n",
    "click_menu_item(driver, \"Pine Log\") # Fails a lot of the time but needed incase Pine Log is not selected already\n",
    "wait_and_click_element(driver, \"/html/body/app-component/div/div/div/skill-page/div/div[1]/button\") # \"Gather\" defaults to gather potion so XPath to gather must be used\n",
    "time.sleep(10) # Action only takes 4.1 but accounting for bad connection\n",
    "click_menu_item(driver, \"Stop & Loot\")\n",
    "\n",
    "\n",
    "click_menu_item(driver, \"Tutorial\")\n",
    "click_menu_item(driver, \"Gather a Copper Ore from Mining\")\n",
    "click_menu_item(driver, \"Copper Rock\")\n",
    "wait_and_click_element(driver, \"/html/body/app-component/div/div/div/skill-page/div/div[1]/button\") # \"Gather\" defaults to gather potion so XPath to gather must be used\n",
    "time.sleep(10) # Action only takes 4.1 but accounting for bad connection\n",
    "click_menu_item(driver, \"Stop & Loot\")\n",
    "\n",
    "\n",
    "click_menu_item(driver, \"Tutorial\")\n",
    "click_menu_item(driver, \"Create Charcoal from Smelting by using the\")\n",
    "click_menu_item(driver, \"Charcoal\")\n",
    "click_menu_item(driver, \"Pine Log\")\n",
    "click_menu_item(driver, \"Max\")\n",
    "click_menu_item(driver, \"Create\")\n",
    "\n",
    "\n",
    "click_menu_item(driver, \"Tutorial\")\n",
    "click_menu_item(driver, \"Craft a Copper Bar from Smelting\")\n",
    "wait_and_click_element(driver, \"/html/body/app-component/div/div/div/skill-page/div/div[1]/div[3]/button[2]\") # \"Craft\" defaults to craft potion so XPath to Craft mut be used\n",
    "time.sleep(10) # Action only takes 4.1 but accounting for bad connection\n",
    "\n",
    "click_menu_item(driver, \"Tutorial\")\n",
    "click_menu_item(driver, \"Claim\")"
   ]
  },
  {
   "cell_type": "code",
   "execution_count": 20,
   "metadata": {},
   "outputs": [
    {
     "name": "stdout",
     "output_type": "stream",
     "text": [
      "Attempt 1 of 3 to click 'Tutorial'\n",
      "Successfully clicked on 'Tutorial'\n",
      "Attempt 1 of 3 to click 'Craft a Copper Sword from Forging'\n",
      "Successfully clicked on 'Craft a Copper Sword from Forging'\n",
      "Attempt 1 of 3 to click 'Copper'\n",
      "Successfully clicked on 'Copper'\n",
      "Attempt 1 of 3 to click 'Copper Sword'\n",
      "Successfully clicked on 'Copper Sword'\n",
      "Attempt 1 of 3 to click 'Tutorial'\n",
      "Successfully clicked on 'Tutorial'\n",
      "Attempt 1 of 3 to click 'Craft a Copper Shield from Smithing'\n",
      "Successfully clicked on 'Craft a Copper Shield from Smithing'\n",
      "Attempt 1 of 3 to click 'Copper'\n",
      "Successfully clicked on 'Copper'\n",
      "Attempt 1 of 3 to click 'Copper Shield'\n",
      "Successfully clicked on 'Copper Shield'\n",
      "Attempt 1 of 3 to click 'Stop & Loot'\n",
      "Successfully clicked on 'Stop & Loot'\n",
      "Attempt 1 of 3 to click 'Tutorial'\n",
      "Successfully clicked on 'Tutorial'\n",
      "Attempt 1 of 3 to click 'Go to the Equipment page'\n",
      "Successfully clicked on 'Go to the Equipment page'\n",
      "Attempt 1 of 3 to click 'Main Hand'\n",
      "Successfully clicked on 'Main Hand'\n",
      "Attempt 1 of 3 to click 'Copper Sword'\n",
      "Successfully clicked on 'Copper Sword'\n",
      "Attempt 1 of 3 to click 'Off Hand'\n",
      "Successfully clicked on 'Off Hand'\n",
      "Attempt 1 of 3 to click 'Copper Shield'\n",
      "Successfully clicked on 'Copper Shield'\n",
      "Attempt 1 of 3 to click 'Tutorial'\n",
      "Successfully clicked on 'Tutorial'\n",
      "Attempt 1 of 3 to click 'Claim'\n",
      "Successfully clicked on 'Claim'\n"
     ]
    },
    {
     "data": {
      "text/plain": [
       "True"
      ]
     },
     "execution_count": 20,
     "metadata": {},
     "output_type": "execute_result"
    }
   ],
   "source": [
    "# Tutorial Page Two\n",
    "click_menu_item(driver, \"Tutorial\")\n",
    "click_menu_item(driver, \"Craft a Copper Sword from Forging\")\n",
    "click_menu_item(driver, \"Copper\")\n",
    "click_menu_item(driver, \"Copper Sword\")\n",
    "wait_and_click_element(driver, \"/html/body/app-component/div/div/div/skill-page/div/div[1]/div[3]/button[2]\") # \"Craft\" defaults to craft potion so XPath to Craft mut be used\n",
    "time.sleep(10) # Action only takes 4.1 but accounting for bad connection\n",
    "\n",
    "click_menu_item(driver, \"Tutorial\")\n",
    "click_menu_item(driver, \"Craft a Copper Shield from Smithing\")\n",
    "click_menu_item(driver, \"Copper\")\n",
    "click_menu_item(driver, \"Copper Shield\")\n",
    "wait_and_click_element(driver, \"/html/body/app-component/div/div/div/skill-page/div/div[1]/div[3]/button[2]\") # \"Craft\" defaults to craft potion so XPath to Craft mut be used\n",
    "time.sleep(10) # Action only takes 4.1 but accounting for bad connection\n",
    "click_menu_item(driver, \"Stop & Loot\") # Need to stop and loot this time so shield is available to equip\n",
    "\n",
    "click_menu_item(driver, \"Tutorial\")\n",
    "click_menu_item(driver, \"Go to the Equipment page\")\n",
    "click_menu_item(driver, \"Main Hand\")\n",
    "click_menu_item(driver, \"Copper Sword\")\n",
    "click_menu_item(driver, \"Off Hand\")\n",
    "click_menu_item(driver, \"Copper Shield\")\n",
    "\n",
    "click_menu_item(driver, \"Tutorial\")\n",
    "click_menu_item(driver, \"Claim\")\n"
   ]
  },
  {
   "cell_type": "code",
   "execution_count": 5,
   "metadata": {},
   "outputs": [
    {
     "name": "stdout",
     "output_type": "stream",
     "text": [
      "Attempt 1 of 3 to click 'Tutorial'\n",
      "Successfully clicked on 'Tutorial'\n",
      "Attempt 1 of 3 to click 'Craft 150 Copper Helmets from Smithing'\n",
      "Successfully clicked on 'Craft 150 Copper Helmets from Smithing'\n",
      "Attempt 1 of 3 to click 'Stop & Loot'\n",
      "Successfully clicked on 'Stop & Loot'\n",
      "Attempt 1 of 3 to click 'Tutorial'\n",
      "Successfully clicked on 'Tutorial'\n",
      "Attempt 1 of 3 to click 'Go to the Inventory page'\n",
      "Successfully clicked on 'Go to the Inventory page'\n",
      "Attempt 1 of 3 to click 'Upgrade'\n",
      "Successfully clicked on 'Upgrade'\n",
      "Button found: <button _ngcontent-cmm-c44=\"\" type=\"button\" class=\"item ng-star-inserted\"><div _ngcontent-cmm-c44=\"\" class=\"item-background\"><div _ngcontent-cmm-c44=\"\" class=\"image\"><img _ngcontent-cmm-c44=\"\" src=\"/assets/items/armor-copper-helmet.png\"><div _ngcontent-cmm-c44=\"\" class=\"stars\"><!----></div></div><div _ngcontent-cmm-c44=\"\" class=\"amount\">8</div></div></button>\n",
      "Successfully clicked button containing image: helmet\n"
     ]
    },
    {
     "ename": "TimeoutException",
     "evalue": "Message: \nStacktrace:\n\tGetHandleVerifier [0x00007FF7C282EEA2+31554]\n\t(No symbol) [0x00007FF7C27A7ED9]\n\t(No symbol) [0x00007FF7C266872A]\n\t(No symbol) [0x00007FF7C26B8434]\n\t(No symbol) [0x00007FF7C26B853C]\n\t(No symbol) [0x00007FF7C26FF6A7]\n\t(No symbol) [0x00007FF7C26DD06F]\n\t(No symbol) [0x00007FF7C26FC977]\n\t(No symbol) [0x00007FF7C26DCDD3]\n\t(No symbol) [0x00007FF7C26AA33B]\n\t(No symbol) [0x00007FF7C26AAED1]\n\tGetHandleVerifier [0x00007FF7C2B38B1D+3217341]\n\tGetHandleVerifier [0x00007FF7C2B85AE3+3532675]\n\tGetHandleVerifier [0x00007FF7C2B7B0E0+3489152]\n\tGetHandleVerifier [0x00007FF7C28DE776+750614]\n\t(No symbol) [0x00007FF7C27B375F]\n\t(No symbol) [0x00007FF7C27AEB14]\n\t(No symbol) [0x00007FF7C27AECA2]\n\t(No symbol) [0x00007FF7C279E16F]\n\tBaseThreadInitThunk [0x00007FFE5F13257D+29]\n\tRtlUserThreadStart [0x00007FFE5FD6AF28+40]\n",
     "output_type": "error",
     "traceback": [
      "\u001b[1;31m---------------------------------------------------------------------------\u001b[0m",
      "\u001b[1;31mTimeoutException\u001b[0m                          Traceback (most recent call last)",
      "Cell \u001b[1;32mIn[5], line 16\u001b[0m\n\u001b[0;32m     14\u001b[0m click_menu_item(driver, \u001b[38;5;124m\"\u001b[39m\u001b[38;5;124mUpgrade\u001b[39m\u001b[38;5;124m\"\u001b[39m)\n\u001b[0;32m     15\u001b[0m find_inventory_element_and_click(driver, \u001b[38;5;124m\"\u001b[39m\u001b[38;5;124mhelmet\u001b[39m\u001b[38;5;124m\"\u001b[39m)\n\u001b[1;32m---> 16\u001b[0m \u001b[43mwait_and_click_element\u001b[49m\u001b[43m(\u001b[49m\u001b[43mdriver\u001b[49m\u001b[43m,\u001b[49m\u001b[43m \u001b[49m\u001b[38;5;124;43m\"\u001b[39;49m\u001b[38;5;124;43m/html/body/app-component/div/div/div/inventory-page/modal-component/div/div[2]/div/div/div[6]/div/button\u001b[39;49m\u001b[38;5;124;43m\"\u001b[39;49m\u001b[43m)\u001b[49m \n\u001b[0;32m     18\u001b[0m click_menu_item(driver, \u001b[38;5;124m\"\u001b[39m\u001b[38;5;124mTutorial\u001b[39m\u001b[38;5;124m\"\u001b[39m)\n\u001b[0;32m     19\u001b[0m click_menu_item(driver, \u001b[38;5;124m\"\u001b[39m\u001b[38;5;124mClaim\u001b[39m\u001b[38;5;124m\"\u001b[39m)\n",
      "File \u001b[1;32mc:\\Users\\willi\\OneDrive\\Desktop\\CNN_Lego\\Selenium-Web-Game-Bot\\wait_and_click_element.py:22\u001b[0m, in \u001b[0;36mwait_and_click_element\u001b[1;34m(driver, xpath, timeout)\u001b[0m\n\u001b[0;32m      8\u001b[0m \u001b[38;5;250m\u001b[39m\u001b[38;5;124;03m\"\"\"\u001b[39;00m\n\u001b[0;32m      9\u001b[0m \u001b[38;5;124;03mWaits for an element specified by the given XPath to be present on the page,\u001b[39;00m\n\u001b[0;32m     10\u001b[0m \u001b[38;5;124;03mand then clicks the element.\u001b[39;00m\n\u001b[1;32m   (...)\u001b[0m\n\u001b[0;32m     18\u001b[0m \u001b[38;5;124;03mwait_and_click_element(driver, \"/html/body/app-component/nav-component/div[2]/div[2]/button[10]\", max_wait_time=100)\u001b[39;00m\n\u001b[0;32m     19\u001b[0m \u001b[38;5;124;03m\"\"\"\u001b[39;00m\n\u001b[0;32m     21\u001b[0m wait \u001b[38;5;241m=\u001b[39m WebDriverWait(driver, timeout)\n\u001b[1;32m---> 22\u001b[0m element \u001b[38;5;241m=\u001b[39m \u001b[43mwait\u001b[49m\u001b[38;5;241;43m.\u001b[39;49m\u001b[43muntil\u001b[49m\u001b[43m(\u001b[49m\u001b[43mEC\u001b[49m\u001b[38;5;241;43m.\u001b[39;49m\u001b[43mpresence_of_element_located\u001b[49m\u001b[43m(\u001b[49m\u001b[43m(\u001b[49m\u001b[43mBy\u001b[49m\u001b[38;5;241;43m.\u001b[39;49m\u001b[43mXPATH\u001b[49m\u001b[43m,\u001b[49m\u001b[43m \u001b[49m\u001b[43mxpath\u001b[49m\u001b[43m)\u001b[49m\u001b[43m)\u001b[49m\u001b[43m)\u001b[49m\n\u001b[0;32m     23\u001b[0m element\u001b[38;5;241m.\u001b[39mclick()\n",
      "File \u001b[1;32mc:\\Users\\willi\\OneDrive\\Desktop\\CNN_Lego\\Selenium-Web-Game-Bot\\.venv\\Lib\\site-packages\\selenium\\webdriver\\support\\wait.py:105\u001b[0m, in \u001b[0;36mWebDriverWait.until\u001b[1;34m(self, method, message)\u001b[0m\n\u001b[0;32m    103\u001b[0m     \u001b[38;5;28;01mif\u001b[39;00m time\u001b[38;5;241m.\u001b[39mmonotonic() \u001b[38;5;241m>\u001b[39m end_time:\n\u001b[0;32m    104\u001b[0m         \u001b[38;5;28;01mbreak\u001b[39;00m\n\u001b[1;32m--> 105\u001b[0m \u001b[38;5;28;01mraise\u001b[39;00m TimeoutException(message, screen, stacktrace)\n",
      "\u001b[1;31mTimeoutException\u001b[0m: Message: \nStacktrace:\n\tGetHandleVerifier [0x00007FF7C282EEA2+31554]\n\t(No symbol) [0x00007FF7C27A7ED9]\n\t(No symbol) [0x00007FF7C266872A]\n\t(No symbol) [0x00007FF7C26B8434]\n\t(No symbol) [0x00007FF7C26B853C]\n\t(No symbol) [0x00007FF7C26FF6A7]\n\t(No symbol) [0x00007FF7C26DD06F]\n\t(No symbol) [0x00007FF7C26FC977]\n\t(No symbol) [0x00007FF7C26DCDD3]\n\t(No symbol) [0x00007FF7C26AA33B]\n\t(No symbol) [0x00007FF7C26AAED1]\n\tGetHandleVerifier [0x00007FF7C2B38B1D+3217341]\n\tGetHandleVerifier [0x00007FF7C2B85AE3+3532675]\n\tGetHandleVerifier [0x00007FF7C2B7B0E0+3489152]\n\tGetHandleVerifier [0x00007FF7C28DE776+750614]\n\t(No symbol) [0x00007FF7C27B375F]\n\t(No symbol) [0x00007FF7C27AEB14]\n\t(No symbol) [0x00007FF7C27AECA2]\n\t(No symbol) [0x00007FF7C279E16F]\n\tBaseThreadInitThunk [0x00007FFE5F13257D+29]\n\tRtlUserThreadStart [0x00007FFE5FD6AF28+40]\n"
     ]
    }
   ],
   "source": [
    "# Tutorial Page Three\n",
    "# click_menu_item(driver, \"\")\n",
    "click_menu_item(driver, \"Tutorial\")\n",
    "click_menu_item(driver, \"Craft 150 Copper Helmets from Smithing\")\n",
    "wait_and_click_element(driver, \"/html/body/app-component/div/div/div/skill-page/div/div[1]/div[3]/button[2]\") # \"Craft\" defaults to craft potion so XPath to Craft mut be used\n",
    "numHelmet = 0\n",
    "while numHelmet < 51:\n",
    "    numHelmet = get_integer_from_xpath(driver, \"/html/body/app-component/div/div/div/skill-page/div/div[1]/div[3]/div[2]/div[3]\")\n",
    "    time.sleep(1)\n",
    "click_menu_item(driver, \"Stop & Loot\") # Need to stop and loot this time so bars are not wasted\n",
    "\n",
    "click_menu_item(driver, \"Tutorial\")\n",
    "click_menu_item(driver, \"Go to the Inventory page\")\n",
    "click_menu_item(driver, \"Upgrade\")\n",
    "find_inventory_element_and_click(driver, \"helmet\")\n",
    "wait_and_click_element(driver, \"/html/body/app-component/div/div/div/inventory-page/modal-component/div/div[2]/div/div/div[7]/div\")\n",
    "wait_and_click_element(driver, \"/html/body/app-component/div/div/div/inventory-page/modal-component/div/div[2]/div/div/div[7]/div\")\n",
    "wait_and_click_element(driver, \"/html/body/app-component/div/div/div/inventory-page/modal-component/div/div[2]/div/div/div[7]/div\")\n",
    "click_menu_item(driver, \"Tutorial\")\n",
    "click_menu_item(driver, \"Claim\")\n"
   ]
  },
  {
   "cell_type": "code",
   "execution_count": 30,
   "metadata": {},
   "outputs": [
    {
     "name": "stdout",
     "output_type": "stream",
     "text": [
      "Attempt 1 of 3 to click 'Tutorial'\n",
      "Successfully clicked on 'Tutorial'\n",
      "Attempt 1 of 3 to click 'Buy Seeds from the Merchant'\n",
      "Successfully clicked on 'Buy Seeds from the Merchant'\n",
      "Attempt 1 of 3 to click 'Seeds'\n",
      "Successfully clicked on 'Seeds'\n",
      "Attempt 1 of 3 to click 'Buy'\n",
      "Successfully clicked on 'Buy'\n",
      "Attempt 1 of 3 to click 'Tutorial'\n",
      "Successfully clicked on 'Tutorial'\n",
      "Attempt 1 of 3 to click 'Gather Pine Logs from Woodcutting until an Apple drops'\n",
      "Successfully clicked on 'Gather Pine Logs from Woodcutting until an Apple drops'\n",
      "Attempt 1 of 3 to click 'Stop & Loot'\n",
      "Could not find clickable button with text 'Stop & Loot' on attempt 1\n",
      "Attempt 2 of 3 to click 'Stop & Loot'\n",
      "Successfully clicked on 'Stop & Loot'\n",
      "Attempt 1 of 3 to click 'Tutorial'\n",
      "Successfully clicked on 'Tutorial'\n",
      "Attempt 1 of 3 to click 'Create Compost from Farming by using the'\n",
      "Successfully clicked on 'Create Compost from Farming by using the'\n",
      "Attempt 1 of 3 to click 'Compost'\n",
      "Successfully clicked on 'Compost'\n",
      "Attempt 1 of 3 to click 'Create'\n",
      "Successfully clicked on 'Create'\n",
      "Attempt 1 of 3 to click 'Tutorial'\n",
      "An error occurred: Message: stale element reference: stale element not found in the current frame\n",
      "  (Session info: chrome=126.0.6478.127); For documentation on this error, please visit: https://www.selenium.dev/documentation/webdriver/troubleshooting/errors#stale-element-reference-exception\n",
      "Stacktrace:\n",
      "\tGetHandleVerifier [0x00007FF7C282EEA2+31554]\n",
      "\t(No symbol) [0x00007FF7C27A7ED9]\n",
      "\t(No symbol) [0x00007FF7C266872A]\n",
      "\t(No symbol) [0x00007FF7C266E55E]\n",
      "\t(No symbol) [0x00007FF7C2670EB1]\n",
      "\t(No symbol) [0x00007FF7C2670F50]\n",
      "\t(No symbol) [0x00007FF7C26B21DB]\n",
      "\t(No symbol) [0x00007FF7C26DD02A]\n",
      "\t(No symbol) [0x00007FF7C26ABA76]\n",
      "\t(No symbol) [0x00007FF7C26DD240]\n",
      "\t(No symbol) [0x00007FF7C26FC977]\n",
      "\t(No symbol) [0x00007FF7C26DCDD3]\n",
      "\t(No symbol) [0x00007FF7C26AA33B]\n",
      "\t(No symbol) [0x00007FF7C26AAED1]\n",
      "\tGetHandleVerifier [0x00007FF7C2B38B1D+3217341]\n",
      "\tGetHandleVerifier [0x00007FF7C2B85AE3+3532675]\n",
      "\tGetHandleVerifier [0x00007FF7C2B7B0E0+3489152]\n",
      "\tGetHandleVerifier [0x00007FF7C28DE776+750614]\n",
      "\t(No symbol) [0x00007FF7C27B375F]\n",
      "\t(No symbol) [0x00007FF7C27AEB14]\n",
      "\t(No symbol) [0x00007FF7C27AECA2]\n",
      "\t(No symbol) [0x00007FF7C279E16F]\n",
      "\tBaseThreadInitThunk [0x00007FFE5F13257D+29]\n",
      "\tRtlUserThreadStart [0x00007FFE5FD6AF28+40]\n",
      "\n",
      "Attempt 2 of 3 to click 'Tutorial'\n",
      "Successfully clicked on 'Tutorial'\n",
      "Attempt 1 of 3 to click 'Gather a Potato from Farming'\n",
      "Successfully clicked on 'Gather a Potato from Farming'\n",
      "Attempt 1 of 3 to click 'Tutorial'\n",
      "Successfully clicked on 'Tutorial'\n",
      "Attempt 1 of 3 to click 'Buy Fishing Bait from the Merchant'\n",
      "Successfully clicked on 'Buy Fishing Bait from the Merchant'\n",
      "Attempt 1 of 3 to click 'Fishing Bait'\n",
      "Successfully clicked on 'Fishing Bait'\n",
      "Attempt 1 of 3 to click 'Buy'\n",
      "Successfully clicked on 'Buy'\n",
      "Attempt 1 of 3 to click 'Tutorial'\n",
      "Successfully clicked on 'Tutorial'\n",
      "Attempt 1 of 3 to click 'Gather a Raw Shrimp from Fishing'\n",
      "Successfully clicked on 'Gather a Raw Shrimp from Fishing'\n",
      "Attempt 1 of 3 to click 'Tutorial'\n",
      "Successfully clicked on 'Tutorial'\n",
      "Attempt 1 of 3 to click 'Craft a Shrimp Pie from Cooking'\n",
      "Successfully clicked on 'Craft a Shrimp Pie from Cooking'\n",
      "Attempt 1 of 3 to click 'Tutorial'\n",
      "Successfully clicked on 'Tutorial'\n"
     ]
    },
    {
     "data": {
      "text/plain": [
       "True"
      ]
     },
     "execution_count": 30,
     "metadata": {},
     "output_type": "execute_result"
    }
   ],
   "source": [
    "# Tutorial Page Four\n",
    "\n",
    "click_menu_item(driver, \"Tutorial\")\n",
    "click_menu_item(driver, \"Buy Seeds from the Merchant\")\n",
    "click_menu_item(driver, \"Seeds\")\n",
    "wait_and_type_element(driver, \"/html/body/app-component/div/div/div/merchant-page/div/div[2]/div/div[6]/input\", \"1\")\n",
    "click_menu_item(driver, \"Buy\")\n",
    "\n",
    "click_menu_item(driver, \"Tutorial\")\n",
    "click_menu_item(driver, \"Gather Pine Logs from Woodcutting until an Apple drops\")\n",
    "wait_and_click_element(driver, \"/html/body/app-component/div/div/div/skill-page/div/div[1]/button\") # \"Gather\" defaults to gather potion so XPath to gather must be used\n",
    "while get_integer_from_xpath(driver, \"/html/body/app-component/div/div/div/skill-page/div/div[1]/div[2]/div[3]/div[3]\", timeout = 10000) < 1:\n",
    "    time.sleep(1)\n",
    "click_menu_item(driver, \"Stop & Loot\")\n",
    "\n",
    "click_menu_item(driver, \"Tutorial\")\n",
    "click_menu_item(driver, \"Create Compost from Farming by using the\")\n",
    "click_menu_item(driver, \"Compost\")\n",
    "wait_and_click_element(driver, \"/html/body/app-component/div/div/div/skill-page/compost-component/overlay-component/div/div/div/div/div[1]/div[2]/div[2]/button[8]\") # Hardcoded because \"Apple\" does not seem to work\n",
    "wait_and_type_element(driver, \"/html/body/app-component/div/div/div/skill-page/compost-component/overlay-component/div/div/div/div/div[2]/div/div[5]/input\", \"1\")\n",
    "click_menu_item(driver, \"Create\")\n",
    "\n",
    "click_menu_item(driver, \"Tutorial\")\n",
    "click_menu_item(driver, \"Gather a Potato from Farming\")\n",
    "wait_and_click_element(driver, \"/html/body/app-component/div/div/div/skill-page/div/div[1]/button\") # \"Gather\" defaults to gather potion so XPath to gather must be used\n",
    "time.sleep(10)\n",
    "\n",
    "click_menu_item(driver, \"Tutorial\")\n",
    "click_menu_item(driver, \"Buy Fishing Bait from the Merchant\")\n",
    "click_menu_item(driver, \"Fishing Bait\")\n",
    "wait_and_type_element(driver, \"/html/body/app-component/div/div/div/merchant-page/div/div[2]/div/div[6]/input\", \"1\")\n",
    "click_menu_item(driver, \"Buy\")\n",
    "\n",
    "click_menu_item(driver, \"Tutorial\")\n",
    "click_menu_item(driver, \"Gather a Raw Shrimp from Fishing\")\n",
    "wait_and_click_element(driver, \"/html/body/app-component/div/div/div/skill-page/div/div[1]/button\") # \"Gather\" defaults to gather potion so XPath to gather must be used\n",
    "time.sleep(10)\n",
    "\n",
    "click_menu_item(driver, \"Tutorial\")\n",
    "click_menu_item(driver, \"Craft a Shrimp Pie from Cooking\")\n",
    "wait_and_click_element(driver, \"/html/body/app-component/div/div/div/skill-page/div/div[1]/div[3]/button[2]\") # \"Craft\" defaults to gather potion so XPath to gather must be used\n",
    "time.sleep(10)\n",
    "\n",
    "click_menu_item(driver, \"Tutorial\")\n",
    "click_menu_item(driver, \"Claim\")\n",
    "\n"
   ]
  },
  {
   "cell_type": "code",
   "execution_count": 24,
   "metadata": {},
   "outputs": [
    {
     "name": "stdout",
     "output_type": "stream",
     "text": [
      "Attempt 1 of 3 to click 'Apple'\n",
      "Successfully clicked on 'Apple'\n"
     ]
    },
    {
     "data": {
      "text/plain": [
       "True"
      ]
     },
     "execution_count": 24,
     "metadata": {},
     "output_type": "execute_result"
    }
   ],
   "source": [
    "click_menu_item(driver, \"Apple\")"
   ]
  },
  {
   "cell_type": "code",
   "execution_count": 17,
   "metadata": {},
   "outputs": [],
   "source": [
    "import subprocess\n",
    "\n",
    "def kill_chrome():\n",
    "    # Use 'taskkill' command to kill all 'chrome' processes on Windows\n",
    "    subprocess.run(['taskkill', '/F', '/IM', 'chrome.exe'])\n",
    "\n",
    "kill_chrome()"
   ]
  }
 ],
 "metadata": {
  "kernelspec": {
   "display_name": ".venv",
   "language": "python",
   "name": "python3"
  },
  "language_info": {
   "codemirror_mode": {
    "name": "ipython",
    "version": 3
   },
   "file_extension": ".py",
   "mimetype": "text/x-python",
   "name": "python",
   "nbconvert_exporter": "python",
   "pygments_lexer": "ipython3",
   "version": "3.12.1"
  }
 },
 "nbformat": 4,
 "nbformat_minor": 2
}
