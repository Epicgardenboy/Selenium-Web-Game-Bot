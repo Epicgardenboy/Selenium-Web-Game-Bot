{
 "cells": [
  {
   "cell_type": "code",
   "execution_count": 25,
   "metadata": {},
   "outputs": [],
   "source": [
    "from selenium import webdriver\n",
    "from selenium.webdriver.common.by import By\n",
    "from selenium.webdriver.support.wait import WebDriverWait\n",
    "from selenium import webdriver\n",
    "from selenium.webdriver.common.by import By\n",
    "from selenium.webdriver.support.ui import WebDriverWait\n",
    "from selenium.webdriver.support import expected_conditions as EC\n",
    "from selenium.common.exceptions import NoSuchElementException"
   ]
  },
  {
   "cell_type": "code",
   "execution_count": 14,
   "metadata": {},
   "outputs": [],
   "source": [
    "def wait_and_click_element(driver, xpath, timeout=10):\n",
    "    \"\"\"\n",
    "    Waits for an element specified by the given XPath to be present on the page,\n",
    "    and then clicks the element.\n",
    "\n",
    "    Args:\n",
    "        driver (WebDriver): The Selenium WebDriver instance.\n",
    "        xpath (str): The XPath locator for the element to be clicked.\n",
    "        timeout (int, optional): The maximum time to wait for the element to be present, in seconds. Default is 10 seconds.\n",
    "\n",
    "    Example Usage:\n",
    "    wait_and_click_element(driver, \"/html/body/app-component/nav-component/div[2]/div[2]/button[10]\", max_wait_time=100)\n",
    "    \"\"\"\n",
    "\n",
    "    wait = WebDriverWait(driver, timeout)\n",
    "    element = wait.until(EC.presence_of_element_located((By.XPATH, xpath)))\n",
    "    element.click()\n",
    "\n",
    "def wait_and_type_element(driver, xpath, text, timeout=10):\n",
    "    \"\"\"\n",
    "    Waits for an element specified by the given XPath to be present on the page,\n",
    "    and then clicks the element.\n",
    "\n",
    "    Args:\n",
    "        driver (WebDriver): The Selenium WebDriver instance.\n",
    "        xpath (str): The XPath locator for the element to be typed in.\n",
    "        text (str): The string to be typed in the textbox.\n",
    "        timeout (int, optional): The maximum time to wait for the element to be present, in seconds. Default is 10 seconds.\n",
    "\n",
    "    Example Usage:\n",
    "    wait_and_click_element(driver, \"/html/body/app-component/nav-component/div[2]/div[2]/button[10]\", \"This will be typed\", max_wait_time=100)\n",
    "    \"\"\"\n",
    "\n",
    "    wait = WebDriverWait(driver, timeout)\n",
    "    element = wait.until(EC.presence_of_element_located((By.XPATH, xpath)))\n",
    "    element.send_keys(text)"
   ]
  },
  {
   "cell_type": "code",
   "execution_count": 21,
   "metadata": {},
   "outputs": [],
   "source": [
    "\n",
    "def find_inventory_element_and_click(driver, source, timeout = 100):\n",
    "    \"\"\"\n",
    "    Finds the element in the inventory page, and then clicks on the element\n",
    "\n",
    "    Args:\n",
    "        driver (WebDriver): The Selenium WebDriver instance.\n",
    "        source (str): The source of the image to be located. e.g. \".//img[@src='/assets/items/gem-ruby.png']\"\n",
    "        timeout (int, optional): The maximum time to wait for the element to be present, in seconds. Default is 10 seconds.\n",
    "\n",
    "    Example Usage: \n",
    "    find_inventory_element_and_click(driver, source = \".//img[@src='/assets/items/gem-ruby.png']\")\n",
    "    \n",
    "    \"\"\"\n",
    "    # Assuming the webpage is already loaded\n",
    "    base_xpath = \"/html/body/app-component/div/div/div/inventory-page/div/div[1]/div/div[3]/button[\"\n",
    "    found = False\n",
    "\n",
    "    for i in range(1, timeout + 1):\n",
    "        # Construct the full XPath for each button\n",
    "        full_xpath = base_xpath + str(i) + \"]\"\n",
    "\n",
    "        try:\n",
    "            # Find the button element\n",
    "            element = driver.find_element(By.XPATH, full_xpath)\n",
    "\n",
    "            # Check if the button contains the Ruby image\n",
    "            image = element.find_element(By.XPATH, source)\n",
    "            element.click()\n",
    "        except NoSuchElementException:\n",
    "            filler = 1+1\n",
    "        else:\n",
    "            found = True\n",
    "\n",
    "        # Stop after max_items even if desired item not found\n",
    "        if i == timeout or found == True:\n",
    "            break\n"
   ]
  },
  {
   "cell_type": "code",
   "execution_count": 23,
   "metadata": {},
   "outputs": [],
   "source": [
    "driver = webdriver.Chrome()\n",
    "driver.get(\"https://ironwoodrpg.com\")\n",
    "\n",
    "# Sign into the website and go to the main page\n",
    "wait_and_click_element(driver, '/html/body/app-component/div/div/div/auth-page/div[4]/button[2]' , timeout=100)\n",
    "wait_and_click_element(driver, '/html/body/app-component/div/div/div/auth-page/modal-component/div/div[2]/div/div/form/div[4]/button' , timeout=100)\n",
    "wait_and_type_element(driver, '/html/body/app-component/div/div/div/auth-page/modal-component/div/div[2]/div/div/form/div[1]/input', loginInfo.usernamelist[0], timeout=100)\n",
    "wait_and_type_element(driver, '/html/body/app-component/div/div/div/auth-page/modal-component/div/div[2]/div/div/form/div[3]/input', loginInfo.passwordlist[0], timeout=100)\n",
    "wait_and_click_element(driver, '/html/body/app-component/div/div/div/auth-page/modal-component/div/div[2]/div/div/form/button' , timeout=100)\n"
   ]
  },
  {
   "cell_type": "code",
   "execution_count": 28,
   "metadata": {},
   "outputs": [],
   "source": [
    "find_inventory_element_and_click(driver, \".//img[@src='/assets/items/gem-ruby.png']\")"
   ]
  },
  {
   "cell_type": "code",
   "execution_count": 18,
   "metadata": {},
   "outputs": [],
   "source": [
    "import subprocess\n",
    "\n",
    "def kill_chrome():\n",
    "    # run the 'pkill' command to kill all 'chrome' processes\n",
    "    subprocess.run(['pkill', 'Google Chrome'])\n",
    "\n",
    "kill_chrome()"
   ]
  }
 ],
 "metadata": {
  "kernelspec": {
   "display_name": ".venv",
   "language": "python",
   "name": "python3"
  },
  "language_info": {
   "codemirror_mode": {
    "name": "ipython",
    "version": 3
   },
   "file_extension": ".py",
   "mimetype": "text/x-python",
   "name": "python",
   "nbconvert_exporter": "python",
   "pygments_lexer": "ipython3",
   "version": "3.12.4"
  }
 },
 "nbformat": 4,
 "nbformat_minor": 2
}
