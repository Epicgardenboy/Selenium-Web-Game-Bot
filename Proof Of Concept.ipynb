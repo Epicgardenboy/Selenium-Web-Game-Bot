{
 "cells": [
  {
   "cell_type": "code",
   "execution_count": 9,
   "metadata": {},
   "outputs": [],
   "source": [
    "from selenium import webdriver\n",
    "from selenium.webdriver.common.by import By\n",
    "from selenium.webdriver.support.wait import WebDriverWait\n",
    "from selenium import webdriver\n",
    "from selenium.webdriver.common.by import By\n",
    "from selenium.webdriver.support.ui import WebDriverWait\n",
    "from selenium.webdriver.support import expected_conditions as EC\n",
    "from selenium.common.exceptions import NoSuchElementException\n",
    "import loginInfo\n",
    "from selenium.common.exceptions import TimeoutException, StaleElementReferenceException\n",
    "import time\n",
    "from find_inventory_element_and_click import find_inventory_element_and_click\n",
    "from find_inventory_elements import find_inventory_elements\n",
    "from wait_and_type_element import wait_and_type_element\n",
    "from wait_and_click_element import wait_and_click_element\n",
    "from click_menu_item import click_menu_item"
   ]
  },
  {
   "cell_type": "code",
   "execution_count": 5,
   "metadata": {},
   "outputs": [],
   "source": [
    "driver = webdriver.Chrome()\n",
    "driver.get(\"https://ironwoodrpg.com\")\n",
    "\n",
    "# Sign into the website and go to the main page\n",
    "wait_and_click_element(driver, '/html/body/app-component/div/div/div/auth-page/div[4]/button[2]' , timeout=100)\n",
    "wait_and_click_element(driver, '/html/body/app-component/div/div/div/auth-page/modal-component/div/div[2]/div/div/form/div[4]/button' , timeout=100)\n",
    "wait_and_type_element(driver, '/html/body/app-component/div/div/div/auth-page/modal-component/div/div[2]/div/div/form/div[1]/input', loginInfo.usernamelist[0], timeout=100)\n",
    "wait_and_type_element(driver, '/html/body/app-component/div/div/div/auth-page/modal-component/div/div[2]/div/div/form/div[3]/input', loginInfo.passwordlist[0], timeout=100)\n",
    "wait_and_click_element(driver, '/html/body/app-component/div/div/div/auth-page/modal-component/div/div[2]/div/div/form/button' , timeout=100)\n"
   ]
  },
  {
   "cell_type": "code",
   "execution_count": 13,
   "metadata": {},
   "outputs": [],
   "source": [
    "def wait_for_element_by_text(driver, text, timeout=10):\n",
    "    \"\"\"\n",
    "    Waits for an element containing the specified text to be present on the page.\n",
    "    \n",
    "    Args:\n",
    "    driver (WebDriver): The Selenium WebDriver instance.\n",
    "    text (str): The text to search for in the element.\n",
    "    timeout (int): Maximum time to wait for the element (default is 10 seconds).\n",
    "    \n",
    "    Returns:\n",
    "    WebElement: The found element if successful, None otherwise.\n",
    "    \"\"\"\n",
    "    try:\n",
    "        element = WebDriverWait(driver, timeout).until(\n",
    "            EC.presence_of_element_located((By.XPATH, f\"//*[contains(text(), '{text}')]\"))\n",
    "        )\n",
    "        return element\n",
    "    except TimeoutException:\n",
    "        return None"
   ]
  },
  {
   "cell_type": "code",
   "execution_count": 14,
   "metadata": {},
   "outputs": [
    {
     "name": "stdout",
     "output_type": "stream",
     "text": [
      "Element with text 'Pumpkin' found.\n"
     ]
    },
    {
     "data": {
      "text/plain": [
       "<selenium.webdriver.remote.webelement.WebElement (session=\"bbd7a5bff64f6bd879e849ba83289199\", element=\"f.012F0E72CD5C7D4C3C5C6CC545072AA7.d.893D7806F721911270007D3E45F8E3C9.e.20087\")>"
      ]
     },
     "execution_count": 14,
     "metadata": {},
     "output_type": "execute_result"
    }
   ],
   "source": [
    "wait_for_element_by_text(driver, \"Pumpkin\", timeout = 100)"
   ]
  },
  {
   "cell_type": "code",
   "execution_count": 4,
   "metadata": {},
   "outputs": [],
   "source": [
    "import subprocess\n",
    "\n",
    "def kill_chrome():\n",
    "    # run the 'pkill' command to kill all 'chrome' processes\n",
    "    subprocess.run(['pkill', 'Google Chrome'])\n",
    "\n",
    "kill_chrome()"
   ]
  }
 ],
 "metadata": {
  "kernelspec": {
   "display_name": ".venv",
   "language": "python",
   "name": "python3"
  },
  "language_info": {
   "codemirror_mode": {
    "name": "ipython",
    "version": 3
   },
   "file_extension": ".py",
   "mimetype": "text/x-python",
   "name": "python",
   "nbconvert_exporter": "python",
   "pygments_lexer": "ipython3",
   "version": "3.12.4"
  }
 },
 "nbformat": 4,
 "nbformat_minor": 2
}
