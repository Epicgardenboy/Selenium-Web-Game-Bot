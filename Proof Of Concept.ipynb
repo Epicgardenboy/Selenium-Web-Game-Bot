{
 "cells": [
  {
   "cell_type": "code",
   "execution_count": 2,
   "metadata": {},
   "outputs": [],
   "source": [
    "# Imports\n",
    "from selenium import webdriver\n",
    "from selenium.webdriver.common.by import By\n",
    "from selenium.webdriver.support.wait import WebDriverWait\n",
    "from selenium import webdriver\n",
    "from selenium.webdriver.common.by import By\n",
    "from selenium.webdriver.support.ui import WebDriverWait\n",
    "from selenium.webdriver.support import expected_conditions as EC\n",
    "from selenium.common.exceptions import NoSuchElementException\n",
    "import loginInfo\n",
    "from selenium.common.exceptions import TimeoutException, StaleElementReferenceException\n",
    "import time\n",
    "from find_inventory_element_and_click import find_inventory_element_and_click\n",
    "from find_inventory_elements import find_inventory_elements\n",
    "from wait_and_type_element import wait_and_type_element\n",
    "from wait_and_click_element import wait_and_click_element\n",
    "from click_menu_item import click_menu_item\n",
    "from wait_for_element_by_text import wait_for_element_by_text\n",
    "from get_integer_from_xpath import get_integer_from_xpath"
   ]
  },
  {
   "cell_type": "code",
   "execution_count": 3,
   "metadata": {},
   "outputs": [],
   "source": [
    "# Open instance \n",
    "driver = webdriver.Chrome()\n",
    "driver.get(\"https://ironwoodrpg.com\")\n",
    "\n",
    "# Sign into the website and go to the main page\n",
    "wait_and_click_element(driver, '/html/body/app-component/div/div/div/auth-page/div[4]/button[2]' , timeout=100)\n",
    "wait_and_click_element(driver, '/html/body/app-component/div/div/div/auth-page/modal-component/div/div[2]/div/div/form/div[4]/button' , timeout=100)\n",
    "wait_and_type_element(driver, '/html/body/app-component/div/div/div/auth-page/modal-component/div/div[2]/div/div/form/div[1]/input', loginInfo.usernamelist[0], timeout=100)\n",
    "wait_and_type_element(driver, '/html/body/app-component/div/div/div/auth-page/modal-component/div/div[2]/div/div/form/div[3]/input', loginInfo.passwordlist[0], timeout=100)\n",
    "wait_and_click_element(driver, '/html/body/app-component/div/div/div/auth-page/modal-component/div/div[2]/div/div/form/button' , timeout=100)\n"
   ]
  },
  {
   "cell_type": "code",
   "execution_count": 5,
   "metadata": {},
   "outputs": [
    {
     "name": "stdout",
     "output_type": "stream",
     "text": [
      "Attempt 1 of 3 to click 'Tutorial'\n",
      "Successfully clicked on 'Tutorial'\n",
      "Attempt 1 of 3 to click 'Gather a Pine Log from Woodcutting'\n",
      "Successfully clicked on 'Gather a Pine Log from Woodcutting'\n",
      "Attempt 1 of 3 to click 'Pine Log'\n",
      "Could not find clickable button with text 'Pine Log' on attempt 1\n",
      "Attempt 2 of 3 to click 'Pine Log'\n",
      "Could not find clickable button with text 'Pine Log' on attempt 2\n",
      "Attempt 3 of 3 to click 'Pine Log'\n",
      "Could not find clickable button with text 'Pine Log' on attempt 3\n",
      "Failed to click on 'Pine Log' after 3 attempts\n",
      "Attempt 1 of 3 to click 'Stop & Loot'\n",
      "Successfully clicked on 'Stop & Loot'\n",
      "Attempt 1 of 3 to click 'Tutorial'\n",
      "Successfully clicked on 'Tutorial'\n",
      "Attempt 1 of 3 to click 'Gather a Copper Ore from Mining'\n",
      "Successfully clicked on 'Gather a Copper Ore from Mining'\n",
      "Attempt 1 of 3 to click 'Copper Rock'\n",
      "Successfully clicked on 'Copper Rock'\n",
      "Attempt 1 of 3 to click 'Stop & Loot'\n",
      "Successfully clicked on 'Stop & Loot'\n",
      "Attempt 1 of 3 to click 'Tutorial'\n",
      "Successfully clicked on 'Tutorial'\n",
      "Attempt 1 of 3 to click 'Create Charcoal from Smelting by using the'\n",
      "Successfully clicked on 'Create Charcoal from Smelting by using the'\n",
      "Attempt 1 of 3 to click 'Charcoal'\n",
      "Successfully clicked on 'Charcoal'\n",
      "Attempt 1 of 3 to click 'Pine Log'\n",
      "Successfully clicked on 'Pine Log'\n",
      "Attempt 1 of 3 to click 'Max'\n",
      "Successfully clicked on 'Max'\n",
      "Attempt 1 of 3 to click 'Create'\n",
      "Successfully clicked on 'Create'\n",
      "Attempt 1 of 3 to click 'Tutorial'\n",
      "Successfully clicked on 'Tutorial'\n",
      "Attempt 1 of 3 to click 'Craft a Copper Bar from Smelting'\n",
      "Successfully clicked on 'Craft a Copper Bar from Smelting'\n",
      "Attempt 1 of 3 to click 'Tutorial'\n",
      "Successfully clicked on 'Tutorial'\n",
      "Attempt 1 of 3 to click 'Claim'\n",
      "Successfully clicked on 'Claim'\n"
     ]
    },
    {
     "data": {
      "text/plain": [
       "True"
      ]
     },
     "execution_count": 5,
     "metadata": {},
     "output_type": "execute_result"
    }
   ],
   "source": [
    "# Tutorial Page One\n",
    "click_menu_item(driver, \"Tutorial\")\n",
    "click_menu_item(driver, \"Gather a Pine Log from Woodcutting\")\n",
    "click_menu_item(driver, \"Pine Log\") # Fails a lot of the time but needed incase Pine Log is not selected already\n",
    "wait_and_click_element(driver, \"/html/body/app-component/div/div/div/skill-page/div/div[1]/button\") # \"Gather\" defaults to gather potion so XPath to gather must be used\n",
    "time.sleep(10) # Action only takes 4.1 but accounting for bad connection\n",
    "click_menu_item(driver, \"Stop & Loot\")\n",
    "\n",
    "\n",
    "click_menu_item(driver, \"Tutorial\")\n",
    "click_menu_item(driver, \"Gather a Copper Ore from Mining\")\n",
    "click_menu_item(driver, \"Copper Rock\")\n",
    "wait_and_click_element(driver, \"/html/body/app-component/div/div/div/skill-page/div/div[1]/button\") # \"Gather\" defaults to gather potion so XPath to gather must be used\n",
    "time.sleep(10) # Action only takes 4.1 but accounting for bad connection\n",
    "click_menu_item(driver, \"Stop & Loot\")\n",
    "\n",
    "\n",
    "click_menu_item(driver, \"Tutorial\")\n",
    "click_menu_item(driver, \"Create Charcoal from Smelting by using the\")\n",
    "click_menu_item(driver, \"Charcoal\")\n",
    "click_menu_item(driver, \"Pine Log\")\n",
    "click_menu_item(driver, \"Max\")\n",
    "click_menu_item(driver, \"Create\")\n",
    "\n",
    "\n",
    "click_menu_item(driver, \"Tutorial\")\n",
    "click_menu_item(driver, \"Craft a Copper Bar from Smelting\")\n",
    "wait_and_click_element(driver, \"/html/body/app-component/div/div/div/skill-page/div/div[1]/div[3]/button[2]\") # \"Craft\" defaults to craft potion so XPath to Craft mut be used\n",
    "time.sleep(10) # Action only takes 4.1 but accounting for bad connection\n",
    "\n",
    "click_menu_item(driver, \"Tutorial\")\n",
    "click_menu_item(driver, \"Claim\")"
   ]
  },
  {
   "cell_type": "code",
   "execution_count": 20,
   "metadata": {},
   "outputs": [
    {
     "name": "stdout",
     "output_type": "stream",
     "text": [
      "Attempt 1 of 3 to click 'Tutorial'\n",
      "Successfully clicked on 'Tutorial'\n",
      "Attempt 1 of 3 to click 'Craft a Copper Sword from Forging'\n",
      "Successfully clicked on 'Craft a Copper Sword from Forging'\n",
      "Attempt 1 of 3 to click 'Copper'\n",
      "Successfully clicked on 'Copper'\n",
      "Attempt 1 of 3 to click 'Copper Sword'\n",
      "Successfully clicked on 'Copper Sword'\n",
      "Attempt 1 of 3 to click 'Tutorial'\n",
      "Successfully clicked on 'Tutorial'\n",
      "Attempt 1 of 3 to click 'Craft a Copper Shield from Smithing'\n",
      "Successfully clicked on 'Craft a Copper Shield from Smithing'\n",
      "Attempt 1 of 3 to click 'Copper'\n",
      "Successfully clicked on 'Copper'\n",
      "Attempt 1 of 3 to click 'Copper Shield'\n",
      "Successfully clicked on 'Copper Shield'\n",
      "Attempt 1 of 3 to click 'Stop & Loot'\n",
      "Successfully clicked on 'Stop & Loot'\n",
      "Attempt 1 of 3 to click 'Tutorial'\n",
      "Successfully clicked on 'Tutorial'\n",
      "Attempt 1 of 3 to click 'Go to the Equipment page'\n",
      "Successfully clicked on 'Go to the Equipment page'\n",
      "Attempt 1 of 3 to click 'Main Hand'\n",
      "Successfully clicked on 'Main Hand'\n",
      "Attempt 1 of 3 to click 'Copper Sword'\n",
      "Successfully clicked on 'Copper Sword'\n",
      "Attempt 1 of 3 to click 'Off Hand'\n",
      "Successfully clicked on 'Off Hand'\n",
      "Attempt 1 of 3 to click 'Copper Shield'\n",
      "Successfully clicked on 'Copper Shield'\n",
      "Attempt 1 of 3 to click 'Tutorial'\n",
      "Successfully clicked on 'Tutorial'\n",
      "Attempt 1 of 3 to click 'Claim'\n",
      "Successfully clicked on 'Claim'\n"
     ]
    },
    {
     "data": {
      "text/plain": [
       "True"
      ]
     },
     "execution_count": 20,
     "metadata": {},
     "output_type": "execute_result"
    }
   ],
   "source": [
    "# Tutorial Page Two\n",
    "click_menu_item(driver, \"Tutorial\")\n",
    "click_menu_item(driver, \"Craft a Copper Sword from Forging\")\n",
    "click_menu_item(driver, \"Copper\")\n",
    "click_menu_item(driver, \"Copper Sword\")\n",
    "wait_and_click_element(driver, \"/html/body/app-component/div/div/div/skill-page/div/div[1]/div[3]/button[2]\") # \"Craft\" defaults to craft potion so XPath to Craft mut be used\n",
    "time.sleep(10) # Action only takes 4.1 but accounting for bad connection\n",
    "\n",
    "click_menu_item(driver, \"Tutorial\")\n",
    "click_menu_item(driver, \"Craft a Copper Shield from Smithing\")\n",
    "click_menu_item(driver, \"Copper\")\n",
    "click_menu_item(driver, \"Copper Shield\")\n",
    "wait_and_click_element(driver, \"/html/body/app-component/div/div/div/skill-page/div/div[1]/div[3]/button[2]\") # \"Craft\" defaults to craft potion so XPath to Craft mut be used\n",
    "time.sleep(10) # Action only takes 4.1 but accounting for bad connection\n",
    "click_menu_item(driver, \"Stop & Loot\") # Need to stop and loot this time so shield is available to equip\n",
    "\n",
    "click_menu_item(driver, \"Tutorial\")\n",
    "click_menu_item(driver, \"Go to the Equipment page\")\n",
    "click_menu_item(driver, \"Main Hand\")\n",
    "click_menu_item(driver, \"Copper Sword\")\n",
    "click_menu_item(driver, \"Off Hand\")\n",
    "click_menu_item(driver, \"Copper Shield\")\n",
    "\n",
    "click_menu_item(driver, \"Tutorial\")\n",
    "click_menu_item(driver, \"Claim\")\n"
   ]
  },
  {
   "cell_type": "code",
   "execution_count": 5,
   "metadata": {},
   "outputs": [
    {
     "name": "stdout",
     "output_type": "stream",
     "text": [
      "Attempt 1 of 3 to click 'Tutorial'\n",
      "Successfully clicked on 'Tutorial'\n",
      "Attempt 1 of 3 to click 'Craft 150 Copper Helmets from Smithing'\n",
      "Successfully clicked on 'Craft 150 Copper Helmets from Smithing'\n",
      "Attempt 1 of 3 to click 'Stop & Loot'\n",
      "Successfully clicked on 'Stop & Loot'\n",
      "Attempt 1 of 3 to click 'Tutorial'\n",
      "Successfully clicked on 'Tutorial'\n",
      "Attempt 1 of 3 to click 'Go to the Inventory page'\n",
      "Successfully clicked on 'Go to the Inventory page'\n",
      "Attempt 1 of 3 to click 'Upgrade'\n",
      "Successfully clicked on 'Upgrade'\n",
      "Button found: <button _ngcontent-cmm-c44=\"\" type=\"button\" class=\"item ng-star-inserted\"><div _ngcontent-cmm-c44=\"\" class=\"item-background\"><div _ngcontent-cmm-c44=\"\" class=\"image\"><img _ngcontent-cmm-c44=\"\" src=\"/assets/items/armor-copper-helmet.png\"><div _ngcontent-cmm-c44=\"\" class=\"stars\"><!----></div></div><div _ngcontent-cmm-c44=\"\" class=\"amount\">8</div></div></button>\n",
      "Successfully clicked button containing image: helmet\n"
     ]
    },
    {
     "ename": "TimeoutException",
     "evalue": "Message: \nStacktrace:\n\tGetHandleVerifier [0x00007FF7C282EEA2+31554]\n\t(No symbol) [0x00007FF7C27A7ED9]\n\t(No symbol) [0x00007FF7C266872A]\n\t(No symbol) [0x00007FF7C26B8434]\n\t(No symbol) [0x00007FF7C26B853C]\n\t(No symbol) [0x00007FF7C26FF6A7]\n\t(No symbol) [0x00007FF7C26DD06F]\n\t(No symbol) [0x00007FF7C26FC977]\n\t(No symbol) [0x00007FF7C26DCDD3]\n\t(No symbol) [0x00007FF7C26AA33B]\n\t(No symbol) [0x00007FF7C26AAED1]\n\tGetHandleVerifier [0x00007FF7C2B38B1D+3217341]\n\tGetHandleVerifier [0x00007FF7C2B85AE3+3532675]\n\tGetHandleVerifier [0x00007FF7C2B7B0E0+3489152]\n\tGetHandleVerifier [0x00007FF7C28DE776+750614]\n\t(No symbol) [0x00007FF7C27B375F]\n\t(No symbol) [0x00007FF7C27AEB14]\n\t(No symbol) [0x00007FF7C27AECA2]\n\t(No symbol) [0x00007FF7C279E16F]\n\tBaseThreadInitThunk [0x00007FFE5F13257D+29]\n\tRtlUserThreadStart [0x00007FFE5FD6AF28+40]\n",
     "output_type": "error",
     "traceback": [
      "\u001b[1;31m---------------------------------------------------------------------------\u001b[0m",
      "\u001b[1;31mTimeoutException\u001b[0m                          Traceback (most recent call last)",
      "Cell \u001b[1;32mIn[5], line 16\u001b[0m\n\u001b[0;32m     14\u001b[0m click_menu_item(driver, \u001b[38;5;124m\"\u001b[39m\u001b[38;5;124mUpgrade\u001b[39m\u001b[38;5;124m\"\u001b[39m)\n\u001b[0;32m     15\u001b[0m find_inventory_element_and_click(driver, \u001b[38;5;124m\"\u001b[39m\u001b[38;5;124mhelmet\u001b[39m\u001b[38;5;124m\"\u001b[39m)\n\u001b[1;32m---> 16\u001b[0m \u001b[43mwait_and_click_element\u001b[49m\u001b[43m(\u001b[49m\u001b[43mdriver\u001b[49m\u001b[43m,\u001b[49m\u001b[43m \u001b[49m\u001b[38;5;124;43m\"\u001b[39;49m\u001b[38;5;124;43m/html/body/app-component/div/div/div/inventory-page/modal-component/div/div[2]/div/div/div[6]/div/button\u001b[39;49m\u001b[38;5;124;43m\"\u001b[39;49m\u001b[43m)\u001b[49m \n\u001b[0;32m     18\u001b[0m click_menu_item(driver, \u001b[38;5;124m\"\u001b[39m\u001b[38;5;124mTutorial\u001b[39m\u001b[38;5;124m\"\u001b[39m)\n\u001b[0;32m     19\u001b[0m click_menu_item(driver, \u001b[38;5;124m\"\u001b[39m\u001b[38;5;124mClaim\u001b[39m\u001b[38;5;124m\"\u001b[39m)\n",
      "File \u001b[1;32mc:\\Users\\willi\\OneDrive\\Desktop\\CNN_Lego\\Selenium-Web-Game-Bot\\wait_and_click_element.py:22\u001b[0m, in \u001b[0;36mwait_and_click_element\u001b[1;34m(driver, xpath, timeout)\u001b[0m\n\u001b[0;32m      8\u001b[0m \u001b[38;5;250m\u001b[39m\u001b[38;5;124;03m\"\"\"\u001b[39;00m\n\u001b[0;32m      9\u001b[0m \u001b[38;5;124;03mWaits for an element specified by the given XPath to be present on the page,\u001b[39;00m\n\u001b[0;32m     10\u001b[0m \u001b[38;5;124;03mand then clicks the element.\u001b[39;00m\n\u001b[1;32m   (...)\u001b[0m\n\u001b[0;32m     18\u001b[0m \u001b[38;5;124;03mwait_and_click_element(driver, \"/html/body/app-component/nav-component/div[2]/div[2]/button[10]\", max_wait_time=100)\u001b[39;00m\n\u001b[0;32m     19\u001b[0m \u001b[38;5;124;03m\"\"\"\u001b[39;00m\n\u001b[0;32m     21\u001b[0m wait \u001b[38;5;241m=\u001b[39m WebDriverWait(driver, timeout)\n\u001b[1;32m---> 22\u001b[0m element \u001b[38;5;241m=\u001b[39m \u001b[43mwait\u001b[49m\u001b[38;5;241;43m.\u001b[39;49m\u001b[43muntil\u001b[49m\u001b[43m(\u001b[49m\u001b[43mEC\u001b[49m\u001b[38;5;241;43m.\u001b[39;49m\u001b[43mpresence_of_element_located\u001b[49m\u001b[43m(\u001b[49m\u001b[43m(\u001b[49m\u001b[43mBy\u001b[49m\u001b[38;5;241;43m.\u001b[39;49m\u001b[43mXPATH\u001b[49m\u001b[43m,\u001b[49m\u001b[43m \u001b[49m\u001b[43mxpath\u001b[49m\u001b[43m)\u001b[49m\u001b[43m)\u001b[49m\u001b[43m)\u001b[49m\n\u001b[0;32m     23\u001b[0m element\u001b[38;5;241m.\u001b[39mclick()\n",
      "File \u001b[1;32mc:\\Users\\willi\\OneDrive\\Desktop\\CNN_Lego\\Selenium-Web-Game-Bot\\.venv\\Lib\\site-packages\\selenium\\webdriver\\support\\wait.py:105\u001b[0m, in \u001b[0;36mWebDriverWait.until\u001b[1;34m(self, method, message)\u001b[0m\n\u001b[0;32m    103\u001b[0m     \u001b[38;5;28;01mif\u001b[39;00m time\u001b[38;5;241m.\u001b[39mmonotonic() \u001b[38;5;241m>\u001b[39m end_time:\n\u001b[0;32m    104\u001b[0m         \u001b[38;5;28;01mbreak\u001b[39;00m\n\u001b[1;32m--> 105\u001b[0m \u001b[38;5;28;01mraise\u001b[39;00m TimeoutException(message, screen, stacktrace)\n",
      "\u001b[1;31mTimeoutException\u001b[0m: Message: \nStacktrace:\n\tGetHandleVerifier [0x00007FF7C282EEA2+31554]\n\t(No symbol) [0x00007FF7C27A7ED9]\n\t(No symbol) [0x00007FF7C266872A]\n\t(No symbol) [0x00007FF7C26B8434]\n\t(No symbol) [0x00007FF7C26B853C]\n\t(No symbol) [0x00007FF7C26FF6A7]\n\t(No symbol) [0x00007FF7C26DD06F]\n\t(No symbol) [0x00007FF7C26FC977]\n\t(No symbol) [0x00007FF7C26DCDD3]\n\t(No symbol) [0x00007FF7C26AA33B]\n\t(No symbol) [0x00007FF7C26AAED1]\n\tGetHandleVerifier [0x00007FF7C2B38B1D+3217341]\n\tGetHandleVerifier [0x00007FF7C2B85AE3+3532675]\n\tGetHandleVerifier [0x00007FF7C2B7B0E0+3489152]\n\tGetHandleVerifier [0x00007FF7C28DE776+750614]\n\t(No symbol) [0x00007FF7C27B375F]\n\t(No symbol) [0x00007FF7C27AEB14]\n\t(No symbol) [0x00007FF7C27AECA2]\n\t(No symbol) [0x00007FF7C279E16F]\n\tBaseThreadInitThunk [0x00007FFE5F13257D+29]\n\tRtlUserThreadStart [0x00007FFE5FD6AF28+40]\n"
     ]
    }
   ],
   "source": [
    "# Tutorial Page Three\n",
    "# click_menu_item(driver, \"\")\n",
    "click_menu_item(driver, \"Tutorial\")\n",
    "click_menu_item(driver, \"Craft 150 Copper Helmets from Smithing\")\n",
    "wait_and_click_element(driver, \"/html/body/app-component/div/div/div/skill-page/div/div[1]/div[3]/button[2]\") # \"Craft\" defaults to craft potion so XPath to Craft mut be used\n",
    "numHelmet = 0\n",
    "while numHelmet < 51:\n",
    "    numHelmet = get_integer_from_xpath(driver, \"/html/body/app-component/div/div/div/skill-page/div/div[1]/div[3]/div[2]/div[3]\")\n",
    "    time.sleep(1)\n",
    "click_menu_item(driver, \"Stop & Loot\") # Need to stop and loot this time so bars are not wasted\n",
    "\n",
    "click_menu_item(driver, \"Tutorial\")\n",
    "click_menu_item(driver, \"Go to the Inventory page\")\n",
    "click_menu_item(driver, \"Upgrade\")\n",
    "find_inventory_element_and_click(driver, \"helmet\")\n",
    "wait_and_click_element(driver, \"/html/body/app-component/div/div/div/inventory-page/modal-component/div/div[2]/div/div/div[7]/div\")\n",
    "wait_and_click_element(driver, \"/html/body/app-component/div/div/div/inventory-page/modal-component/div/div[2]/div/div/div[7]/div\")\n",
    "wait_and_click_element(driver, \"/html/body/app-component/div/div/div/inventory-page/modal-component/div/div[2]/div/div/div[7]/div\")\n",
    "click_menu_item(driver, \"Tutorial\")\n",
    "click_menu_item(driver, \"Claim\")\n"
   ]
  },
  {
   "cell_type": "code",
   "execution_count": 8,
   "metadata": {},
   "outputs": [],
   "source": [
    "wait_and_click_element(driver, \"/html/body/app-component/div/div/div/inventory-page/modal-component/div/div[2]/div/div/div[7]/div\")\n",
    "\n"
   ]
  },
  {
   "cell_type": "code",
   "execution_count": 12,
   "metadata": {},
   "outputs": [
    {
     "ename": "FileNotFoundError",
     "evalue": "[WinError 2] The system cannot find the file specified",
     "output_type": "error",
     "traceback": [
      "\u001b[1;31m---------------------------------------------------------------------------\u001b[0m",
      "\u001b[1;31mFileNotFoundError\u001b[0m                         Traceback (most recent call last)",
      "Cell \u001b[1;32mIn[12], line 7\u001b[0m\n\u001b[0;32m      3\u001b[0m \u001b[38;5;28;01mdef\u001b[39;00m \u001b[38;5;21mkill_chrome\u001b[39m():\n\u001b[0;32m      4\u001b[0m     \u001b[38;5;66;03m# run the 'pkill' command to kill all 'chrome' processes\u001b[39;00m\n\u001b[0;32m      5\u001b[0m     subprocess\u001b[38;5;241m.\u001b[39mrun([\u001b[38;5;124m'\u001b[39m\u001b[38;5;124mpkill\u001b[39m\u001b[38;5;124m'\u001b[39m, \u001b[38;5;124m'\u001b[39m\u001b[38;5;124mGoogle Chrome\u001b[39m\u001b[38;5;124m'\u001b[39m])\n\u001b[1;32m----> 7\u001b[0m \u001b[43mkill_chrome\u001b[49m\u001b[43m(\u001b[49m\u001b[43m)\u001b[49m\n",
      "Cell \u001b[1;32mIn[12], line 5\u001b[0m, in \u001b[0;36mkill_chrome\u001b[1;34m()\u001b[0m\n\u001b[0;32m      3\u001b[0m \u001b[38;5;28;01mdef\u001b[39;00m \u001b[38;5;21mkill_chrome\u001b[39m():\n\u001b[0;32m      4\u001b[0m     \u001b[38;5;66;03m# run the 'pkill' command to kill all 'chrome' processes\u001b[39;00m\n\u001b[1;32m----> 5\u001b[0m     \u001b[43msubprocess\u001b[49m\u001b[38;5;241;43m.\u001b[39;49m\u001b[43mrun\u001b[49m\u001b[43m(\u001b[49m\u001b[43m[\u001b[49m\u001b[38;5;124;43m'\u001b[39;49m\u001b[38;5;124;43mpkill\u001b[39;49m\u001b[38;5;124;43m'\u001b[39;49m\u001b[43m,\u001b[49m\u001b[43m \u001b[49m\u001b[38;5;124;43m'\u001b[39;49m\u001b[38;5;124;43mGoogle Chrome\u001b[39;49m\u001b[38;5;124;43m'\u001b[39;49m\u001b[43m]\u001b[49m\u001b[43m)\u001b[49m\n",
      "File \u001b[1;32m~\\AppData\\Local\\Programs\\Python\\Python312\\Lib\\subprocess.py:548\u001b[0m, in \u001b[0;36mrun\u001b[1;34m(input, capture_output, timeout, check, *popenargs, **kwargs)\u001b[0m\n\u001b[0;32m    545\u001b[0m     kwargs[\u001b[38;5;124m'\u001b[39m\u001b[38;5;124mstdout\u001b[39m\u001b[38;5;124m'\u001b[39m] \u001b[38;5;241m=\u001b[39m PIPE\n\u001b[0;32m    546\u001b[0m     kwargs[\u001b[38;5;124m'\u001b[39m\u001b[38;5;124mstderr\u001b[39m\u001b[38;5;124m'\u001b[39m] \u001b[38;5;241m=\u001b[39m PIPE\n\u001b[1;32m--> 548\u001b[0m \u001b[38;5;28;01mwith\u001b[39;00m \u001b[43mPopen\u001b[49m\u001b[43m(\u001b[49m\u001b[38;5;241;43m*\u001b[39;49m\u001b[43mpopenargs\u001b[49m\u001b[43m,\u001b[49m\u001b[43m \u001b[49m\u001b[38;5;241;43m*\u001b[39;49m\u001b[38;5;241;43m*\u001b[39;49m\u001b[43mkwargs\u001b[49m\u001b[43m)\u001b[49m \u001b[38;5;28;01mas\u001b[39;00m process:\n\u001b[0;32m    549\u001b[0m     \u001b[38;5;28;01mtry\u001b[39;00m:\n\u001b[0;32m    550\u001b[0m         stdout, stderr \u001b[38;5;241m=\u001b[39m process\u001b[38;5;241m.\u001b[39mcommunicate(\u001b[38;5;28minput\u001b[39m, timeout\u001b[38;5;241m=\u001b[39mtimeout)\n",
      "File \u001b[1;32m~\\AppData\\Local\\Programs\\Python\\Python312\\Lib\\subprocess.py:1026\u001b[0m, in \u001b[0;36mPopen.__init__\u001b[1;34m(self, args, bufsize, executable, stdin, stdout, stderr, preexec_fn, close_fds, shell, cwd, env, universal_newlines, startupinfo, creationflags, restore_signals, start_new_session, pass_fds, user, group, extra_groups, encoding, errors, text, umask, pipesize, process_group)\u001b[0m\n\u001b[0;32m   1022\u001b[0m         \u001b[38;5;28;01mif\u001b[39;00m \u001b[38;5;28mself\u001b[39m\u001b[38;5;241m.\u001b[39mtext_mode:\n\u001b[0;32m   1023\u001b[0m             \u001b[38;5;28mself\u001b[39m\u001b[38;5;241m.\u001b[39mstderr \u001b[38;5;241m=\u001b[39m io\u001b[38;5;241m.\u001b[39mTextIOWrapper(\u001b[38;5;28mself\u001b[39m\u001b[38;5;241m.\u001b[39mstderr,\n\u001b[0;32m   1024\u001b[0m                     encoding\u001b[38;5;241m=\u001b[39mencoding, errors\u001b[38;5;241m=\u001b[39merrors)\n\u001b[1;32m-> 1026\u001b[0m     \u001b[38;5;28;43mself\u001b[39;49m\u001b[38;5;241;43m.\u001b[39;49m\u001b[43m_execute_child\u001b[49m\u001b[43m(\u001b[49m\u001b[43margs\u001b[49m\u001b[43m,\u001b[49m\u001b[43m \u001b[49m\u001b[43mexecutable\u001b[49m\u001b[43m,\u001b[49m\u001b[43m \u001b[49m\u001b[43mpreexec_fn\u001b[49m\u001b[43m,\u001b[49m\u001b[43m \u001b[49m\u001b[43mclose_fds\u001b[49m\u001b[43m,\u001b[49m\n\u001b[0;32m   1027\u001b[0m \u001b[43m                        \u001b[49m\u001b[43mpass_fds\u001b[49m\u001b[43m,\u001b[49m\u001b[43m \u001b[49m\u001b[43mcwd\u001b[49m\u001b[43m,\u001b[49m\u001b[43m \u001b[49m\u001b[43menv\u001b[49m\u001b[43m,\u001b[49m\n\u001b[0;32m   1028\u001b[0m \u001b[43m                        \u001b[49m\u001b[43mstartupinfo\u001b[49m\u001b[43m,\u001b[49m\u001b[43m \u001b[49m\u001b[43mcreationflags\u001b[49m\u001b[43m,\u001b[49m\u001b[43m \u001b[49m\u001b[43mshell\u001b[49m\u001b[43m,\u001b[49m\n\u001b[0;32m   1029\u001b[0m \u001b[43m                        \u001b[49m\u001b[43mp2cread\u001b[49m\u001b[43m,\u001b[49m\u001b[43m \u001b[49m\u001b[43mp2cwrite\u001b[49m\u001b[43m,\u001b[49m\n\u001b[0;32m   1030\u001b[0m \u001b[43m                        \u001b[49m\u001b[43mc2pread\u001b[49m\u001b[43m,\u001b[49m\u001b[43m \u001b[49m\u001b[43mc2pwrite\u001b[49m\u001b[43m,\u001b[49m\n\u001b[0;32m   1031\u001b[0m \u001b[43m                        \u001b[49m\u001b[43merrread\u001b[49m\u001b[43m,\u001b[49m\u001b[43m \u001b[49m\u001b[43merrwrite\u001b[49m\u001b[43m,\u001b[49m\n\u001b[0;32m   1032\u001b[0m \u001b[43m                        \u001b[49m\u001b[43mrestore_signals\u001b[49m\u001b[43m,\u001b[49m\n\u001b[0;32m   1033\u001b[0m \u001b[43m                        \u001b[49m\u001b[43mgid\u001b[49m\u001b[43m,\u001b[49m\u001b[43m \u001b[49m\u001b[43mgids\u001b[49m\u001b[43m,\u001b[49m\u001b[43m \u001b[49m\u001b[43muid\u001b[49m\u001b[43m,\u001b[49m\u001b[43m \u001b[49m\u001b[43mumask\u001b[49m\u001b[43m,\u001b[49m\n\u001b[0;32m   1034\u001b[0m \u001b[43m                        \u001b[49m\u001b[43mstart_new_session\u001b[49m\u001b[43m,\u001b[49m\u001b[43m \u001b[49m\u001b[43mprocess_group\u001b[49m\u001b[43m)\u001b[49m\n\u001b[0;32m   1035\u001b[0m \u001b[38;5;28;01mexcept\u001b[39;00m:\n\u001b[0;32m   1036\u001b[0m     \u001b[38;5;66;03m# Cleanup if the child failed starting.\u001b[39;00m\n\u001b[0;32m   1037\u001b[0m     \u001b[38;5;28;01mfor\u001b[39;00m f \u001b[38;5;129;01min\u001b[39;00m \u001b[38;5;28mfilter\u001b[39m(\u001b[38;5;28;01mNone\u001b[39;00m, (\u001b[38;5;28mself\u001b[39m\u001b[38;5;241m.\u001b[39mstdin, \u001b[38;5;28mself\u001b[39m\u001b[38;5;241m.\u001b[39mstdout, \u001b[38;5;28mself\u001b[39m\u001b[38;5;241m.\u001b[39mstderr)):\n",
      "File \u001b[1;32m~\\AppData\\Local\\Programs\\Python\\Python312\\Lib\\subprocess.py:1538\u001b[0m, in \u001b[0;36mPopen._execute_child\u001b[1;34m(self, args, executable, preexec_fn, close_fds, pass_fds, cwd, env, startupinfo, creationflags, shell, p2cread, p2cwrite, c2pread, c2pwrite, errread, errwrite, unused_restore_signals, unused_gid, unused_gids, unused_uid, unused_umask, unused_start_new_session, unused_process_group)\u001b[0m\n\u001b[0;32m   1536\u001b[0m \u001b[38;5;66;03m# Start the process\u001b[39;00m\n\u001b[0;32m   1537\u001b[0m \u001b[38;5;28;01mtry\u001b[39;00m:\n\u001b[1;32m-> 1538\u001b[0m     hp, ht, pid, tid \u001b[38;5;241m=\u001b[39m \u001b[43m_winapi\u001b[49m\u001b[38;5;241;43m.\u001b[39;49m\u001b[43mCreateProcess\u001b[49m\u001b[43m(\u001b[49m\u001b[43mexecutable\u001b[49m\u001b[43m,\u001b[49m\u001b[43m \u001b[49m\u001b[43margs\u001b[49m\u001b[43m,\u001b[49m\n\u001b[0;32m   1539\u001b[0m \u001b[43m                             \u001b[49m\u001b[38;5;66;43;03m# no special security\u001b[39;49;00m\n\u001b[0;32m   1540\u001b[0m \u001b[43m                             \u001b[49m\u001b[38;5;28;43;01mNone\u001b[39;49;00m\u001b[43m,\u001b[49m\u001b[43m \u001b[49m\u001b[38;5;28;43;01mNone\u001b[39;49;00m\u001b[43m,\u001b[49m\n\u001b[0;32m   1541\u001b[0m \u001b[43m                             \u001b[49m\u001b[38;5;28;43mint\u001b[39;49m\u001b[43m(\u001b[49m\u001b[38;5;129;43;01mnot\u001b[39;49;00m\u001b[43m \u001b[49m\u001b[43mclose_fds\u001b[49m\u001b[43m)\u001b[49m\u001b[43m,\u001b[49m\n\u001b[0;32m   1542\u001b[0m \u001b[43m                             \u001b[49m\u001b[43mcreationflags\u001b[49m\u001b[43m,\u001b[49m\n\u001b[0;32m   1543\u001b[0m \u001b[43m                             \u001b[49m\u001b[43menv\u001b[49m\u001b[43m,\u001b[49m\n\u001b[0;32m   1544\u001b[0m \u001b[43m                             \u001b[49m\u001b[43mcwd\u001b[49m\u001b[43m,\u001b[49m\n\u001b[0;32m   1545\u001b[0m \u001b[43m                             \u001b[49m\u001b[43mstartupinfo\u001b[49m\u001b[43m)\u001b[49m\n\u001b[0;32m   1546\u001b[0m \u001b[38;5;28;01mfinally\u001b[39;00m:\n\u001b[0;32m   1547\u001b[0m     \u001b[38;5;66;03m# Child is launched. Close the parent's copy of those pipe\u001b[39;00m\n\u001b[0;32m   1548\u001b[0m     \u001b[38;5;66;03m# handles that only the child should have open.  You need\u001b[39;00m\n\u001b[1;32m   (...)\u001b[0m\n\u001b[0;32m   1551\u001b[0m     \u001b[38;5;66;03m# pipe will not close when the child process exits and the\u001b[39;00m\n\u001b[0;32m   1552\u001b[0m     \u001b[38;5;66;03m# ReadFile will hang.\u001b[39;00m\n\u001b[0;32m   1553\u001b[0m     \u001b[38;5;28mself\u001b[39m\u001b[38;5;241m.\u001b[39m_close_pipe_fds(p2cread, p2cwrite,\n\u001b[0;32m   1554\u001b[0m                          c2pread, c2pwrite,\n\u001b[0;32m   1555\u001b[0m                          errread, errwrite)\n",
      "\u001b[1;31mFileNotFoundError\u001b[0m: [WinError 2] The system cannot find the file specified"
     ]
    }
   ],
   "source": [
    "import subprocess\n",
    "\n",
    "def kill_chrome():\n",
    "    # run the 'pkill' command to kill all 'chrome' processes\n",
    "    subprocess.run(['pkill', 'Google Chrome'])\n",
    "\n",
    "kill_chrome()"
   ]
  }
 ],
 "metadata": {
  "kernelspec": {
   "display_name": ".venv",
   "language": "python",
   "name": "python3"
  },
  "language_info": {
   "codemirror_mode": {
    "name": "ipython",
    "version": 3
   },
   "file_extension": ".py",
   "mimetype": "text/x-python",
   "name": "python",
   "nbconvert_exporter": "python",
   "pygments_lexer": "ipython3",
   "version": "3.12.1"
  }
 },
 "nbformat": 4,
 "nbformat_minor": 2
}
